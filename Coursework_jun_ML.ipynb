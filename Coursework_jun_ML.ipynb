{
 "cells": [
  {
   "cell_type": "markdown",
   "metadata": {
    "id": "BBv-oIFLVYRz"
   },
   "source": [
    "# Курсовая работа. Блок ML Beginner\n",
    "<br>\n",
    "\n",
    "**NB!** Код должен быть с комментариями к каждому логическому блоку кода. В противном случае работа **не** будет принята. <br><br>\n",
    "Выполнение курсовой работы может потребовать использование дополнительных библиотек. Может потребоваться предварительная обработка данных.\n",
    "\n",
    "<br><br>\n",
    "**Описание работы:**\n",
    "&nbsp;&nbsp;&nbsp;&nbsp;\n",
    "<br><br>\n",
    "&nbsp;&nbsp;&nbsp;&nbsp; Любой бизнес хочет максимизировать количество клиентов. Для достижения этой цели важно не только пытаться привлечь новых, но и удерживать уже существующих. Удержать клиента обойдется компании дешевле, чем привлечь нового. Кроме того, новый клиент может оказаться слабо заинтересованным в услугах бизнеса и с ним будет сложно работать, тогда как о старых клиентах уже есть необходимые данные по взаимодействию с сервисом. \n",
    " <br>\n",
    "\n",
    "&nbsp;&nbsp;&nbsp;&nbsp; Соответственно, прогнозируя отток, мы можем вовремя среагировать и попытаться удержать клиента, который хочет уйти. Опираясь на данные об услугах, которыми пользуется клиент, мы можем сделать ему специальное предложение, пытаясь изменить его решение об уходе от оператора. Благодаря этому задача удержания будет легче в реализации, чем задача привлечения новых пользователей, о которых мы еще ничего не знаем.<br>\n",
    "\n",
    "&nbsp;&nbsp;&nbsp;&nbsp; Вам предоставлен набор данных от телекоммуникационной компании. В данных содержится информация о почти шести тысячах пользователей, их демографических характеристиках, услугах, которыми они пользуются, длительности пользования услугами оператора, методе оплаты, размере оплаты. \n",
    "<br>\n",
    "\n",
    "&nbsp;&nbsp;&nbsp;&nbsp; Cтоит задача проанализировать данные и спрогнозировать отток пользователей (выявить людей, которые продлят контракт и которые не продлят). Работа должна включать в себя следующие обязательные пункты: \n",
    "1. Описание данных *(с расчетом базовых статистик)*, \n",
    "2. Исследование зависимостей и формулирование гипотез, \n",
    "3. Построение моделей для прогнозирования оттока *(с обоснованием выбора той или иной модели)* на основе проверенных гипотез и выявленных взаимосвязей, \n",
    "4. Сравнение качества полученных моделей. \n",
    "\n",
    "Во втором разделе обязательно должно присутствовать обоснование гипотез, подробное описание выявленных взаимосвязей, а также их визуализация. \n",
    "<br>В четвертом дополнительно должны быть сформулированы общие выводы работы.\n",
    "\n",
    "<br><br>\n",
    "\n",
    "_________\n",
    "\n",
    "[Codebook](#Codebook) <br>\n",
    "[1. Описание данных](#1.-Описание-данных)<br>\n",
    "[2. Исследование зависимостей и формулирование гипотез](#2.-Исследование-зависимостей-и-формулирование-гипотез)<br>\n",
    "[3. Построение моделей для прогнозирования оттока](#3.-Построение-моделей-для-прогнозирования-оттока)<br>\n",
    "[4. Сравнение качества моделей](#4.-Сравнение-качества-моделей) <br>\n"
   ]
  },
  {
   "cell_type": "markdown",
   "metadata": {
    "id": "2Eh64LGP5deL"
   },
   "source": []
  },
  {
   "cell_type": "markdown",
   "metadata": {
    "id": "uZY64JwzVYR6"
   },
   "source": [
    "## Codebook\n",
    "<br>\n",
    "\n",
    "[Ссылка для скачивания данных](https://drive.google.com/open?id=1dPCG76ST6NohYKtVMGv6HpFL-jD5p1eJ) \n",
    "<br><br>\n",
    "\n",
    "`telecom_users.csv` содержит следующие значения:<br><br>\n",
    "\n",
    "&nbsp;&nbsp;&nbsp;&nbsp; `customerID` – id клиента<br>\n",
    "&nbsp;&nbsp;&nbsp;&nbsp; `gender` – пол клиента (male/female)<br>\n",
    "&nbsp;&nbsp;&nbsp;&nbsp; `SeniorCitizen` – яляется ли клиент пенсионером (1, 0)<br>\n",
    "&nbsp;&nbsp;&nbsp;&nbsp; `Partner` – состоит ли клиент в браке (Yes, No)<br>\n",
    "&nbsp;&nbsp;&nbsp;&nbsp; `Dependents` – есть ли у клиента иждивенцы (Yes, No)<br>\n",
    "&nbsp;&nbsp;&nbsp;&nbsp; `tenure` – сколько месяцев человек являлся клиентом компании<br>\n",
    "&nbsp;&nbsp;&nbsp;&nbsp; `PhoneService` – подключена ли услуга телефонной связи (Yes, No)<br>\n",
    "&nbsp;&nbsp;&nbsp;&nbsp; `MultipleLines` – подключены ли несколько телефонных линий (Yes, No, No phone service)<br>\n",
    "&nbsp;&nbsp;&nbsp;&nbsp; `InternetService` – интернет-провайдер клиента (DSL, Fiber optic, No)<br>\n",
    "&nbsp;&nbsp;&nbsp;&nbsp; `OnlineSecurity` – подключена ли услуга онлайн-безопасности (Yes, No, No internet service)<br>\n",
    "&nbsp;&nbsp;&nbsp;&nbsp; `OnlineBackup` – подключена ли услуга online backup (Yes, No, No internet service)<br>\n",
    "&nbsp;&nbsp;&nbsp;&nbsp; `DeviceProtection` – есть ли у клиента страховка оборудования (Yes, No, No internet service)<br>\n",
    "&nbsp;&nbsp;&nbsp;&nbsp; `TechSupport` – подключена ли услуга технической поддержки (Yes, No, No internet service)<br>\n",
    "&nbsp;&nbsp;&nbsp;&nbsp; `StreamingTV` – подключена ли услуга стримингового телевидения (Yes, No, No internet service)<br>\n",
    "&nbsp;&nbsp;&nbsp;&nbsp; `StreamingMovies` – подключена ли услуга стримингового кинотеатра (Yes, No, No internet service)<br>\n",
    "&nbsp;&nbsp;&nbsp;&nbsp; `Contract` – тип контракта клиента (Month-to-month, One year, Two year)<br>\n",
    "&nbsp;&nbsp;&nbsp;&nbsp; `PaperlessBilling` – пользуется ли клиент безбумажным биллингом (Yes, No)<br>\n",
    "&nbsp;&nbsp;&nbsp;&nbsp; `PaymentMethod` – метод оплаты (Electronic check, Mailed check, Bank transfer (automatic), Credit card (automatic))<br>\n",
    "&nbsp;&nbsp;&nbsp;&nbsp; `MonthlyCharges` – месячный размер оплаты на настоящий момент<br>\n",
    "&nbsp;&nbsp;&nbsp;&nbsp; `TotalCharges` – общая сумма, которую клиент заплатил за услуги за все время<br>\n",
    "&nbsp;&nbsp;&nbsp;&nbsp; `Churn` – произошел ли отток (Yes or No)<br>"
   ]
  },
  {
   "cell_type": "markdown",
   "metadata": {
    "id": "sIRCLuWGVYR9"
   },
   "source": [
    "# 1. Описание данных"
   ]
  },
  {
   "cell_type": "code",
   "execution_count": 1,
   "metadata": {
    "id": "s0fDRVkgVYSA"
   },
   "outputs": [],
   "source": [
    "import pandas as pd\n",
    "import numpy as np\n",
    "from matplotlib import pyplot as plt\n",
    "import seaborn as sns"
   ]
  },
  {
   "cell_type": "code",
   "execution_count": 2,
   "metadata": {},
   "outputs": [
    {
     "data": {
      "text/html": [
       "<div>\n",
       "<style scoped>\n",
       "    .dataframe tbody tr th:only-of-type {\n",
       "        vertical-align: middle;\n",
       "    }\n",
       "\n",
       "    .dataframe tbody tr th {\n",
       "        vertical-align: top;\n",
       "    }\n",
       "\n",
       "    .dataframe thead th {\n",
       "        text-align: right;\n",
       "    }\n",
       "</style>\n",
       "<table border=\"1\" class=\"dataframe\">\n",
       "  <thead>\n",
       "    <tr style=\"text-align: right;\">\n",
       "      <th></th>\n",
       "      <th>Unnamed: 0</th>\n",
       "      <th>customerID</th>\n",
       "      <th>gender</th>\n",
       "      <th>SeniorCitizen</th>\n",
       "      <th>Partner</th>\n",
       "      <th>Dependents</th>\n",
       "      <th>tenure</th>\n",
       "      <th>PhoneService</th>\n",
       "      <th>MultipleLines</th>\n",
       "      <th>InternetService</th>\n",
       "      <th>...</th>\n",
       "      <th>DeviceProtection</th>\n",
       "      <th>TechSupport</th>\n",
       "      <th>StreamingTV</th>\n",
       "      <th>StreamingMovies</th>\n",
       "      <th>Contract</th>\n",
       "      <th>PaperlessBilling</th>\n",
       "      <th>PaymentMethod</th>\n",
       "      <th>MonthlyCharges</th>\n",
       "      <th>TotalCharges</th>\n",
       "      <th>Churn</th>\n",
       "    </tr>\n",
       "  </thead>\n",
       "  <tbody>\n",
       "    <tr>\n",
       "      <th>0</th>\n",
       "      <td>1869</td>\n",
       "      <td>7010-BRBUU</td>\n",
       "      <td>Male</td>\n",
       "      <td>0</td>\n",
       "      <td>Yes</td>\n",
       "      <td>Yes</td>\n",
       "      <td>72</td>\n",
       "      <td>Yes</td>\n",
       "      <td>Yes</td>\n",
       "      <td>No</td>\n",
       "      <td>...</td>\n",
       "      <td>No internet service</td>\n",
       "      <td>No internet service</td>\n",
       "      <td>No internet service</td>\n",
       "      <td>No internet service</td>\n",
       "      <td>Two year</td>\n",
       "      <td>No</td>\n",
       "      <td>Credit card (automatic)</td>\n",
       "      <td>24.10</td>\n",
       "      <td>1734.65</td>\n",
       "      <td>No</td>\n",
       "    </tr>\n",
       "    <tr>\n",
       "      <th>1</th>\n",
       "      <td>4528</td>\n",
       "      <td>9688-YGXVR</td>\n",
       "      <td>Female</td>\n",
       "      <td>0</td>\n",
       "      <td>No</td>\n",
       "      <td>No</td>\n",
       "      <td>44</td>\n",
       "      <td>Yes</td>\n",
       "      <td>No</td>\n",
       "      <td>Fiber optic</td>\n",
       "      <td>...</td>\n",
       "      <td>Yes</td>\n",
       "      <td>No</td>\n",
       "      <td>Yes</td>\n",
       "      <td>No</td>\n",
       "      <td>Month-to-month</td>\n",
       "      <td>Yes</td>\n",
       "      <td>Credit card (automatic)</td>\n",
       "      <td>88.15</td>\n",
       "      <td>3973.2</td>\n",
       "      <td>No</td>\n",
       "    </tr>\n",
       "    <tr>\n",
       "      <th>2</th>\n",
       "      <td>6344</td>\n",
       "      <td>9286-DOJGF</td>\n",
       "      <td>Female</td>\n",
       "      <td>1</td>\n",
       "      <td>Yes</td>\n",
       "      <td>No</td>\n",
       "      <td>38</td>\n",
       "      <td>Yes</td>\n",
       "      <td>Yes</td>\n",
       "      <td>Fiber optic</td>\n",
       "      <td>...</td>\n",
       "      <td>No</td>\n",
       "      <td>No</td>\n",
       "      <td>No</td>\n",
       "      <td>No</td>\n",
       "      <td>Month-to-month</td>\n",
       "      <td>Yes</td>\n",
       "      <td>Bank transfer (automatic)</td>\n",
       "      <td>74.95</td>\n",
       "      <td>2869.85</td>\n",
       "      <td>Yes</td>\n",
       "    </tr>\n",
       "    <tr>\n",
       "      <th>3</th>\n",
       "      <td>6739</td>\n",
       "      <td>6994-KERXL</td>\n",
       "      <td>Male</td>\n",
       "      <td>0</td>\n",
       "      <td>No</td>\n",
       "      <td>No</td>\n",
       "      <td>4</td>\n",
       "      <td>Yes</td>\n",
       "      <td>No</td>\n",
       "      <td>DSL</td>\n",
       "      <td>...</td>\n",
       "      <td>No</td>\n",
       "      <td>No</td>\n",
       "      <td>No</td>\n",
       "      <td>Yes</td>\n",
       "      <td>Month-to-month</td>\n",
       "      <td>Yes</td>\n",
       "      <td>Electronic check</td>\n",
       "      <td>55.90</td>\n",
       "      <td>238.5</td>\n",
       "      <td>No</td>\n",
       "    </tr>\n",
       "    <tr>\n",
       "      <th>4</th>\n",
       "      <td>432</td>\n",
       "      <td>2181-UAESM</td>\n",
       "      <td>Male</td>\n",
       "      <td>0</td>\n",
       "      <td>No</td>\n",
       "      <td>No</td>\n",
       "      <td>2</td>\n",
       "      <td>Yes</td>\n",
       "      <td>No</td>\n",
       "      <td>DSL</td>\n",
       "      <td>...</td>\n",
       "      <td>Yes</td>\n",
       "      <td>No</td>\n",
       "      <td>No</td>\n",
       "      <td>No</td>\n",
       "      <td>Month-to-month</td>\n",
       "      <td>No</td>\n",
       "      <td>Electronic check</td>\n",
       "      <td>53.45</td>\n",
       "      <td>119.5</td>\n",
       "      <td>No</td>\n",
       "    </tr>\n",
       "  </tbody>\n",
       "</table>\n",
       "<p>5 rows × 22 columns</p>\n",
       "</div>"
      ],
      "text/plain": [
       "   Unnamed: 0  customerID  gender  SeniorCitizen Partner Dependents  tenure  \\\n",
       "0        1869  7010-BRBUU    Male              0     Yes        Yes      72   \n",
       "1        4528  9688-YGXVR  Female              0      No         No      44   \n",
       "2        6344  9286-DOJGF  Female              1     Yes         No      38   \n",
       "3        6739  6994-KERXL    Male              0      No         No       4   \n",
       "4         432  2181-UAESM    Male              0      No         No       2   \n",
       "\n",
       "  PhoneService MultipleLines InternetService  ...     DeviceProtection  \\\n",
       "0          Yes           Yes              No  ...  No internet service   \n",
       "1          Yes            No     Fiber optic  ...                  Yes   \n",
       "2          Yes           Yes     Fiber optic  ...                   No   \n",
       "3          Yes            No             DSL  ...                   No   \n",
       "4          Yes            No             DSL  ...                  Yes   \n",
       "\n",
       "           TechSupport          StreamingTV      StreamingMovies  \\\n",
       "0  No internet service  No internet service  No internet service   \n",
       "1                   No                  Yes                   No   \n",
       "2                   No                   No                   No   \n",
       "3                   No                   No                  Yes   \n",
       "4                   No                   No                   No   \n",
       "\n",
       "         Contract PaperlessBilling              PaymentMethod MonthlyCharges  \\\n",
       "0        Two year               No    Credit card (automatic)          24.10   \n",
       "1  Month-to-month              Yes    Credit card (automatic)          88.15   \n",
       "2  Month-to-month              Yes  Bank transfer (automatic)          74.95   \n",
       "3  Month-to-month              Yes           Electronic check          55.90   \n",
       "4  Month-to-month               No           Electronic check          53.45   \n",
       "\n",
       "  TotalCharges  Churn  \n",
       "0      1734.65     No  \n",
       "1       3973.2     No  \n",
       "2      2869.85    Yes  \n",
       "3        238.5     No  \n",
       "4        119.5     No  \n",
       "\n",
       "[5 rows x 22 columns]"
      ]
     },
     "execution_count": 2,
     "metadata": {},
     "output_type": "execute_result"
    }
   ],
   "source": [
    "# считывание csv файла и запись данных в датафрейм\n",
    "df = pd.read_csv('telecom_users.csv')\n",
    "df.head()"
   ]
  },
  {
   "cell_type": "code",
   "execution_count": 3,
   "metadata": {},
   "outputs": [],
   "source": [
    "# удалим столбец 'Unnamed: 0', так как он не указана в описании данных к заданию, кроме того нет информации о том, что он содержит\n",
    "df.drop(columns=['Unnamed: 0'], inplace=True)"
   ]
  },
  {
   "cell_type": "code",
   "execution_count": 4,
   "metadata": {},
   "outputs": [
    {
     "name": "stdout",
     "output_type": "stream",
     "text": [
      "<class 'pandas.core.frame.DataFrame'>\n",
      "RangeIndex: 5986 entries, 0 to 5985\n",
      "Data columns (total 21 columns):\n",
      " #   Column            Non-Null Count  Dtype  \n",
      "---  ------            --------------  -----  \n",
      " 0   customerID        5986 non-null   object \n",
      " 1   gender            5986 non-null   object \n",
      " 2   SeniorCitizen     5986 non-null   int64  \n",
      " 3   Partner           5986 non-null   object \n",
      " 4   Dependents        5986 non-null   object \n",
      " 5   tenure            5986 non-null   int64  \n",
      " 6   PhoneService      5986 non-null   object \n",
      " 7   MultipleLines     5986 non-null   object \n",
      " 8   InternetService   5986 non-null   object \n",
      " 9   OnlineSecurity    5986 non-null   object \n",
      " 10  OnlineBackup      5986 non-null   object \n",
      " 11  DeviceProtection  5986 non-null   object \n",
      " 12  TechSupport       5986 non-null   object \n",
      " 13  StreamingTV       5986 non-null   object \n",
      " 14  StreamingMovies   5986 non-null   object \n",
      " 15  Contract          5986 non-null   object \n",
      " 16  PaperlessBilling  5986 non-null   object \n",
      " 17  PaymentMethod     5986 non-null   object \n",
      " 18  MonthlyCharges    5986 non-null   float64\n",
      " 19  TotalCharges      5986 non-null   object \n",
      " 20  Churn             5986 non-null   object \n",
      "dtypes: float64(1), int64(2), object(18)\n",
      "memory usage: 982.2+ KB\n"
     ]
    }
   ],
   "source": [
    "df['customerID'].unique().shape # проверка, что все строки содержат уникальных пользователей\n",
    "df.info()\n"
   ]
  },
  {
   "cell_type": "markdown",
   "metadata": {},
   "source": [
    "Датасет содержит 21 столбец и 5986 сторок, то есть информацию о 5986 пользователях.  \n",
    "Столбцы датасета содержат числовые и категориальные признаки, столбец 'Churn' - целевая переменная. Столбец 'customerID 'не несет информации, необходимой для построения модели оттока клиентов, далее рассматриваться не будет.  \n",
    "Для удобства создадим списки для названий столбцов числовых и категориальных призников"
   ]
  },
  {
   "cell_type": "code",
   "execution_count": 5,
   "metadata": {},
   "outputs": [
    {
     "name": "stdout",
     "output_type": "stream",
     "text": [
      "Категориальные данные: \n",
      " ['gender', 'SeniorCitizen', 'Partner', 'Dependents', 'PhoneService', 'MultipleLines', 'InternetService', 'OnlineSecurity', 'OnlineBackup', 'DeviceProtection', 'TechSupport', 'StreamingTV', 'StreamingMovies', 'Contract', 'PaperlessBilling', 'PaymentMethod']\n",
      "Числовые данные: \n",
      " ['tenure', 'MonthlyCharges', 'TotalCharges']\n",
      "Целевая переменная: \n",
      " ['Churn']\n"
     ]
    }
   ],
   "source": [
    "# Категориальные признаки\n",
    "categorical_col = df.columns\n",
    "categorical_col.to_numpy()\n",
    "categorical_col = list(np.delete(categorical_col, [0, 5, 18, 19, 20]))\n",
    "# Числовые признаки\n",
    "numerical_col = ['tenure', 'MonthlyCharges', 'TotalCharges']\n",
    "# Целевая переменная\n",
    "target_col = ['Churn']\n",
    "print('Категориальные данные: \\n', categorical_col)\n",
    "print('Числовые данные: \\n', numerical_col)\n",
    "print('Целевая переменная: \\n', target_col)"
   ]
  },
  {
   "cell_type": "markdown",
   "metadata": {},
   "source": [
    "Анализ датасета показал, что колонка 'TotalCharges' содержит данные типа string, с которыми не работает большинство классификаторов. Кроме того, эта колонка содержит \"пустые\" строки (заполненные пробелом).  Решение стоит ли заполнять пустые строки примем после более детального анализа этих строк относительно целевой переменной. Построим гистограмму распределения целевой переменной.  "
   ]
  },
  {
   "cell_type": "code",
   "execution_count": 6,
   "metadata": {},
   "outputs": [
    {
     "data": {
      "text/plain": [
       "<AxesSubplot:xlabel='Churn', ylabel='Count'>"
      ]
     },
     "execution_count": 6,
     "metadata": {},
     "output_type": "execute_result"
    },
    {
     "data": {
      "image/png": "[encoded data removed]",
      "text/plain": [
       "<Figure size 432x288 with 1 Axes>"
      ]
     },
     "metadata": {
      "needs_background": "light"
     },
     "output_type": "display_data"
    }
   ],
   "source": [
    "sns.histplot(df['Churn'])"
   ]
  },
  {
   "cell_type": "code",
   "execution_count": 7,
   "metadata": {},
   "outputs": [
    {
     "name": "stdout",
     "output_type": "stream",
     "text": [
      "Общее число клиентов:  5986\n",
      "Число клиентов, оставшихся в  компании:  4399\n",
      "Число клиентов, покинувших компанию:  1587\n",
      "Соотношение клиентов, оставшихся и компании и покинувших её:  2.7718966603654693\n"
     ]
    }
   ],
   "source": [
    "churn_no = df['Churn'][df['Churn']=='No'].count()\n",
    "churn_yes = df['Churn'][df['Churn']=='Yes'].count()\n",
    "print('Общее число клиентов: ', df['Churn'].shape[0])\n",
    "print('Число клиентов, оставшихся в  компании: ', churn_no)\n",
    "print('Число клиентов, покинувших компанию: ', churn_yes)\n",
    "print('Соотношение клиентов, оставшихся и компании и покинувших её: ', churn_no / churn_yes)"
   ]
  },
  {
   "cell_type": "code",
   "execution_count": 8,
   "metadata": {},
   "outputs": [
    {
     "data": {
      "text/html": [
       "<div>\n",
       "<style scoped>\n",
       "    .dataframe tbody tr th:only-of-type {\n",
       "        vertical-align: middle;\n",
       "    }\n",
       "\n",
       "    .dataframe tbody tr th {\n",
       "        vertical-align: top;\n",
       "    }\n",
       "\n",
       "    .dataframe thead th {\n",
       "        text-align: right;\n",
       "    }\n",
       "</style>\n",
       "<table border=\"1\" class=\"dataframe\">\n",
       "  <thead>\n",
       "    <tr style=\"text-align: right;\">\n",
       "      <th></th>\n",
       "      <th>tenure</th>\n",
       "      <th>MonthlyCharges</th>\n",
       "      <th>TotalCharges</th>\n",
       "      <th>Churn</th>\n",
       "    </tr>\n",
       "  </thead>\n",
       "  <tbody>\n",
       "    <tr>\n",
       "      <th>356</th>\n",
       "      <td>0</td>\n",
       "      <td>61.90</td>\n",
       "      <td></td>\n",
       "      <td>No</td>\n",
       "    </tr>\n",
       "    <tr>\n",
       "      <th>634</th>\n",
       "      <td>0</td>\n",
       "      <td>56.05</td>\n",
       "      <td></td>\n",
       "      <td>No</td>\n",
       "    </tr>\n",
       "    <tr>\n",
       "      <th>2771</th>\n",
       "      <td>0</td>\n",
       "      <td>25.35</td>\n",
       "      <td></td>\n",
       "      <td>No</td>\n",
       "    </tr>\n",
       "    <tr>\n",
       "      <th>3086</th>\n",
       "      <td>0</td>\n",
       "      <td>19.70</td>\n",
       "      <td></td>\n",
       "      <td>No</td>\n",
       "    </tr>\n",
       "    <tr>\n",
       "      <th>3255</th>\n",
       "      <td>0</td>\n",
       "      <td>19.85</td>\n",
       "      <td></td>\n",
       "      <td>No</td>\n",
       "    </tr>\n",
       "    <tr>\n",
       "      <th>4326</th>\n",
       "      <td>0</td>\n",
       "      <td>80.85</td>\n",
       "      <td></td>\n",
       "      <td>No</td>\n",
       "    </tr>\n",
       "    <tr>\n",
       "      <th>5375</th>\n",
       "      <td>0</td>\n",
       "      <td>20.25</td>\n",
       "      <td></td>\n",
       "      <td>No</td>\n",
       "    </tr>\n",
       "    <tr>\n",
       "      <th>5382</th>\n",
       "      <td>0</td>\n",
       "      <td>20.00</td>\n",
       "      <td></td>\n",
       "      <td>No</td>\n",
       "    </tr>\n",
       "    <tr>\n",
       "      <th>5695</th>\n",
       "      <td>0</td>\n",
       "      <td>52.55</td>\n",
       "      <td></td>\n",
       "      <td>No</td>\n",
       "    </tr>\n",
       "    <tr>\n",
       "      <th>5951</th>\n",
       "      <td>0</td>\n",
       "      <td>25.75</td>\n",
       "      <td></td>\n",
       "      <td>No</td>\n",
       "    </tr>\n",
       "  </tbody>\n",
       "</table>\n",
       "</div>"
      ],
      "text/plain": [
       "      tenure  MonthlyCharges TotalCharges Churn\n",
       "356        0           61.90                 No\n",
       "634        0           56.05                 No\n",
       "2771       0           25.35                 No\n",
       "3086       0           19.70                 No\n",
       "3255       0           19.85                 No\n",
       "4326       0           80.85                 No\n",
       "5375       0           20.25                 No\n",
       "5382       0           20.00                 No\n",
       "5695       0           52.55                 No\n",
       "5951       0           25.75                 No"
      ]
     },
     "execution_count": 8,
     "metadata": {},
     "output_type": "execute_result"
    }
   ],
   "source": [
    "df[numerical_col + target_col][df['TotalCharges'] == ' ']"
   ]
  },
  {
   "cell_type": "code",
   "execution_count": 9,
   "metadata": {},
   "outputs": [
    {
     "name": "stdout",
     "output_type": "stream",
     "text": [
      "Количество пустых строк:  10\n"
     ]
    }
   ],
   "source": [
    "print(\"Количество пустых строк: \", df[numerical_col + target_col][df['TotalCharges'] == ' '].shape[0])"
   ]
  },
  {
   "cell_type": "markdown",
   "metadata": {},
   "source": [
    "Анализ целевой переменной показал, что соотношение оставшихся в компании и покинувших её несбалансировано и имеет место перевес в сторону оставшихся в компании клиентов почти в три раза, то есть объекты интересующего нас класса \"Churn\" = \"Yes\" в меньшинстве, но такой перевес не является серьезным.  \n",
    "Пустым строкам соответвуют объекты с  \"Churn\" = \"No\", пришедшие в компанию менее месяца назад. Эти клиенты не относятся к интересующему нас классу, а также их количество менее 0.2% от всех записей датасета. По этим причинам можем удалить пустые строки, а остальные данные столбца 'TotalCharges' преобразуем к типу float."
   ]
  },
  {
   "cell_type": "code",
   "execution_count": 10,
   "metadata": {},
   "outputs": [],
   "source": [
    "def total_charges_transform(charges_df):\n",
    "    if charges_df == \" \":\n",
    "        return None\n",
    "    else:\n",
    "        return float(charges_df)"
   ]
  },
  {
   "cell_type": "code",
   "execution_count": 11,
   "metadata": {},
   "outputs": [],
   "source": [
    "df['TotalCharges'] = df['TotalCharges'].apply(total_charges_transform)"
   ]
  },
  {
   "cell_type": "code",
   "execution_count": 12,
   "metadata": {},
   "outputs": [],
   "source": [
    "df.dropna(axis=0, inplace=True)"
   ]
  },
  {
   "cell_type": "markdown",
   "metadata": {},
   "source": [
    "Основные метрики числовых признаков"
   ]
  },
  {
   "cell_type": "code",
   "execution_count": 13,
   "metadata": {},
   "outputs": [
    {
     "data": {
      "text/html": [
       "<div>\n",
       "<style scoped>\n",
       "    .dataframe tbody tr th:only-of-type {\n",
       "        vertical-align: middle;\n",
       "    }\n",
       "\n",
       "    .dataframe tbody tr th {\n",
       "        vertical-align: top;\n",
       "    }\n",
       "\n",
       "    .dataframe thead th {\n",
       "        text-align: right;\n",
       "    }\n",
       "</style>\n",
       "<table border=\"1\" class=\"dataframe\">\n",
       "  <thead>\n",
       "    <tr style=\"text-align: right;\">\n",
       "      <th></th>\n",
       "      <th>tenure</th>\n",
       "      <th>MonthlyCharges</th>\n",
       "      <th>TotalCharges</th>\n",
       "    </tr>\n",
       "  </thead>\n",
       "  <tbody>\n",
       "    <tr>\n",
       "      <th>count</th>\n",
       "      <td>5976.000000</td>\n",
       "      <td>5976.000000</td>\n",
       "      <td>5976.000000</td>\n",
       "    </tr>\n",
       "    <tr>\n",
       "      <th>mean</th>\n",
       "      <td>32.523092</td>\n",
       "      <td>64.846687</td>\n",
       "      <td>2298.060617</td>\n",
       "    </tr>\n",
       "    <tr>\n",
       "      <th>std</th>\n",
       "      <td>24.500858</td>\n",
       "      <td>30.107576</td>\n",
       "      <td>2274.127165</td>\n",
       "    </tr>\n",
       "    <tr>\n",
       "      <th>min</th>\n",
       "      <td>1.000000</td>\n",
       "      <td>18.250000</td>\n",
       "      <td>18.800000</td>\n",
       "    </tr>\n",
       "    <tr>\n",
       "      <th>25%</th>\n",
       "      <td>9.000000</td>\n",
       "      <td>35.750000</td>\n",
       "      <td>404.312500</td>\n",
       "    </tr>\n",
       "    <tr>\n",
       "      <th>50%</th>\n",
       "      <td>29.000000</td>\n",
       "      <td>70.425000</td>\n",
       "      <td>1412.150000</td>\n",
       "    </tr>\n",
       "    <tr>\n",
       "      <th>75%</th>\n",
       "      <td>56.000000</td>\n",
       "      <td>89.900000</td>\n",
       "      <td>3846.962500</td>\n",
       "    </tr>\n",
       "    <tr>\n",
       "      <th>max</th>\n",
       "      <td>72.000000</td>\n",
       "      <td>118.750000</td>\n",
       "      <td>8684.800000</td>\n",
       "    </tr>\n",
       "  </tbody>\n",
       "</table>\n",
       "</div>"
      ],
      "text/plain": [
       "            tenure  MonthlyCharges  TotalCharges\n",
       "count  5976.000000     5976.000000   5976.000000\n",
       "mean     32.523092       64.846687   2298.060617\n",
       "std      24.500858       30.107576   2274.127165\n",
       "min       1.000000       18.250000     18.800000\n",
       "25%       9.000000       35.750000    404.312500\n",
       "50%      29.000000       70.425000   1412.150000\n",
       "75%      56.000000       89.900000   3846.962500\n",
       "max      72.000000      118.750000   8684.800000"
      ]
     },
     "execution_count": 13,
     "metadata": {},
     "output_type": "execute_result"
    }
   ],
   "source": [
    "df[numerical_col].describe()"
   ]
  },
  {
   "cell_type": "markdown",
   "metadata": {
    "id": "TDUhZEKyVYSN"
   },
   "source": [
    "# 2. Исследование зависимостей и формулирование гипотез"
   ]
  },
  {
   "cell_type": "markdown",
   "metadata": {},
   "source": [
    "Построим распределения числовых данных совместно с распределением целевой переменноЙ."
   ]
  },
  {
   "cell_type": "code",
   "execution_count": 14,
   "metadata": {},
   "outputs": [
    {
     "data": {
      "text/plain": [
       "<AxesSubplot:xlabel='tenure', ylabel='Count'>"
      ]
     },
     "execution_count": 14,
     "metadata": {},
     "output_type": "execute_result"
    },
    {
     "data": {
      "image/png": "[encoded data removed]",
      "text/plain": [
       "<Figure size 432x288 with 1 Axes>"
      ]
     },
     "metadata": {
      "needs_background": "light"
     },
     "output_type": "display_data"
    }
   ],
   "source": [
    "sns.histplot(df, x='tenure', hue='Churn', alpha=0.25)"
   ]
  },
  {
   "cell_type": "code",
   "execution_count": 15,
   "metadata": {},
   "outputs": [
    {
     "data": {
      "text/plain": [
       "<AxesSubplot:xlabel='MonthlyCharges', ylabel='Count'>"
      ]
     },
     "execution_count": 15,
     "metadata": {},
     "output_type": "execute_result"
    },
    {
     "data": {
      "image/png": "[encoded data removed]",
      "text/plain": [
       "<Figure size 432x288 with 1 Axes>"
      ]
     },
     "metadata": {
      "needs_background": "light"
     },
     "output_type": "display_data"
    }
   ],
   "source": [
    "sns.histplot(df, x='MonthlyCharges', hue='Churn', alpha=0.25)"
   ]
  },
  {
   "cell_type": "code",
   "execution_count": 16,
   "metadata": {},
   "outputs": [
    {
     "data": {
      "text/plain": [
       "<AxesSubplot:xlabel='TotalCharges', ylabel='Count'>"
      ]
     },
     "execution_count": 16,
     "metadata": {},
     "output_type": "execute_result"
    },
    {
     "data": {
      "image/png": "[encoded data removed]",
      "text/plain": [
       "<Figure size 432x288 with 1 Axes>"
      ]
     },
     "metadata": {
      "needs_background": "light"
     },
     "output_type": "display_data"
    }
   ],
   "source": [
    "sns.histplot(df, x='TotalCharges', hue='Churn', alpha=0.25)"
   ]
  },
  {
   "cell_type": "markdown",
   "metadata": {},
   "source": [
    "Из построенных выше гистограмм можно сделать вывод о том, что числовые признаки имеют связь с целевой переменной, в особенности 'tenure' и 'TotalCharges', где наблюдается высокий отток клиентов при малых значениях соответствующих призников. Наиболее выражено прослеживается взаимосвязь между целевой переменной и признаком 'tenure'. Количественные оценки взаимосвязи будут рассчитаны ниже."
   ]
  },
  {
   "cell_type": "markdown",
   "metadata": {},
   "source": [
    "Распределения категориальных данных относительно целевой переменной."
   ]
  },
  {
   "cell_type": "code",
   "execution_count": 17,
   "metadata": {},
   "outputs": [
    {
     "data": {
      "image/png": "[encoded data removed]",
      "text/plain": [
       "<Figure size 1152x2160 with 16 Axes>"
      ]
     },
     "metadata": {
      "needs_background": "light"
     },
     "output_type": "display_data"
    }
   ],
   "source": [
    "fig, axs = plt.subplots(figsize=(16, 30), ncols=2, nrows=8, gridspec_kw={'wspace': 0.3,'hspace': 0.5 })\n",
    "\n",
    "for column, ax in zip(categorical_col, axs.flat):\n",
    "    sns.countplot(x=column, hue='Churn', data=df, ax=ax).set_title(column)\n",
    "    plt.setp(axs, xlabel=None, ylabel=None)\n",
    "plt.setp(ax.get_xticklabels(), rotation=15)\n",
    "\n",
    "plt.show()"
   ]
  },
  {
   "cell_type": "markdown",
   "metadata": {},
   "source": [
    "Из построенных выше гистограмм видно, что зависимость оттока клиентов от значения категориального признака наиболее выражено проявляется для InternetService, DeviceProtection, TechSupport, Contract и PaymentMethod. Количественная оценка взаимосвязи между целевой переменнной и категориальными признаками будет приведена ниже."
   ]
  },
  {
   "cell_type": "markdown",
   "metadata": {},
   "source": [
    "Преобразуем столбец, содержащий целевую переменную в числовое представление данных: значение \"Yes\" изменим на 1, \"No\" - на 0"
   ]
  },
  {
   "cell_type": "code",
   "execution_count": 18,
   "metadata": {},
   "outputs": [],
   "source": [
    "df['Churn'] = df['Churn'].apply(lambda x: 1 if x == 'Yes' else 0)"
   ]
  },
  {
   "cell_type": "code",
   "execution_count": 19,
   "metadata": {},
   "outputs": [
    {
     "data": {
      "text/html": [
       "<div>\n",
       "<style scoped>\n",
       "    .dataframe tbody tr th:only-of-type {\n",
       "        vertical-align: middle;\n",
       "    }\n",
       "\n",
       "    .dataframe tbody tr th {\n",
       "        vertical-align: top;\n",
       "    }\n",
       "\n",
       "    .dataframe thead th {\n",
       "        text-align: right;\n",
       "    }\n",
       "</style>\n",
       "<table border=\"1\" class=\"dataframe\">\n",
       "  <thead>\n",
       "    <tr style=\"text-align: right;\">\n",
       "      <th></th>\n",
       "      <th>customerID</th>\n",
       "      <th>gender</th>\n",
       "      <th>SeniorCitizen</th>\n",
       "      <th>Partner</th>\n",
       "      <th>Dependents</th>\n",
       "      <th>tenure</th>\n",
       "      <th>PhoneService</th>\n",
       "      <th>MultipleLines</th>\n",
       "      <th>InternetService</th>\n",
       "      <th>OnlineSecurity</th>\n",
       "      <th>...</th>\n",
       "      <th>DeviceProtection</th>\n",
       "      <th>TechSupport</th>\n",
       "      <th>StreamingTV</th>\n",
       "      <th>StreamingMovies</th>\n",
       "      <th>Contract</th>\n",
       "      <th>PaperlessBilling</th>\n",
       "      <th>PaymentMethod</th>\n",
       "      <th>MonthlyCharges</th>\n",
       "      <th>TotalCharges</th>\n",
       "      <th>Churn</th>\n",
       "    </tr>\n",
       "  </thead>\n",
       "  <tbody>\n",
       "    <tr>\n",
       "      <th>0</th>\n",
       "      <td>7010-BRBUU</td>\n",
       "      <td>Male</td>\n",
       "      <td>0</td>\n",
       "      <td>Yes</td>\n",
       "      <td>Yes</td>\n",
       "      <td>72</td>\n",
       "      <td>Yes</td>\n",
       "      <td>Yes</td>\n",
       "      <td>No</td>\n",
       "      <td>No internet service</td>\n",
       "      <td>...</td>\n",
       "      <td>No internet service</td>\n",
       "      <td>No internet service</td>\n",
       "      <td>No internet service</td>\n",
       "      <td>No internet service</td>\n",
       "      <td>Two year</td>\n",
       "      <td>No</td>\n",
       "      <td>Credit card (automatic)</td>\n",
       "      <td>24.10</td>\n",
       "      <td>1734.65</td>\n",
       "      <td>0</td>\n",
       "    </tr>\n",
       "    <tr>\n",
       "      <th>1</th>\n",
       "      <td>9688-YGXVR</td>\n",
       "      <td>Female</td>\n",
       "      <td>0</td>\n",
       "      <td>No</td>\n",
       "      <td>No</td>\n",
       "      <td>44</td>\n",
       "      <td>Yes</td>\n",
       "      <td>No</td>\n",
       "      <td>Fiber optic</td>\n",
       "      <td>No</td>\n",
       "      <td>...</td>\n",
       "      <td>Yes</td>\n",
       "      <td>No</td>\n",
       "      <td>Yes</td>\n",
       "      <td>No</td>\n",
       "      <td>Month-to-month</td>\n",
       "      <td>Yes</td>\n",
       "      <td>Credit card (automatic)</td>\n",
       "      <td>88.15</td>\n",
       "      <td>3973.20</td>\n",
       "      <td>0</td>\n",
       "    </tr>\n",
       "    <tr>\n",
       "      <th>2</th>\n",
       "      <td>9286-DOJGF</td>\n",
       "      <td>Female</td>\n",
       "      <td>1</td>\n",
       "      <td>Yes</td>\n",
       "      <td>No</td>\n",
       "      <td>38</td>\n",
       "      <td>Yes</td>\n",
       "      <td>Yes</td>\n",
       "      <td>Fiber optic</td>\n",
       "      <td>No</td>\n",
       "      <td>...</td>\n",
       "      <td>No</td>\n",
       "      <td>No</td>\n",
       "      <td>No</td>\n",
       "      <td>No</td>\n",
       "      <td>Month-to-month</td>\n",
       "      <td>Yes</td>\n",
       "      <td>Bank transfer (automatic)</td>\n",
       "      <td>74.95</td>\n",
       "      <td>2869.85</td>\n",
       "      <td>1</td>\n",
       "    </tr>\n",
       "    <tr>\n",
       "      <th>3</th>\n",
       "      <td>6994-KERXL</td>\n",
       "      <td>Male</td>\n",
       "      <td>0</td>\n",
       "      <td>No</td>\n",
       "      <td>No</td>\n",
       "      <td>4</td>\n",
       "      <td>Yes</td>\n",
       "      <td>No</td>\n",
       "      <td>DSL</td>\n",
       "      <td>No</td>\n",
       "      <td>...</td>\n",
       "      <td>No</td>\n",
       "      <td>No</td>\n",
       "      <td>No</td>\n",
       "      <td>Yes</td>\n",
       "      <td>Month-to-month</td>\n",
       "      <td>Yes</td>\n",
       "      <td>Electronic check</td>\n",
       "      <td>55.90</td>\n",
       "      <td>238.50</td>\n",
       "      <td>0</td>\n",
       "    </tr>\n",
       "    <tr>\n",
       "      <th>4</th>\n",
       "      <td>2181-UAESM</td>\n",
       "      <td>Male</td>\n",
       "      <td>0</td>\n",
       "      <td>No</td>\n",
       "      <td>No</td>\n",
       "      <td>2</td>\n",
       "      <td>Yes</td>\n",
       "      <td>No</td>\n",
       "      <td>DSL</td>\n",
       "      <td>Yes</td>\n",
       "      <td>...</td>\n",
       "      <td>Yes</td>\n",
       "      <td>No</td>\n",
       "      <td>No</td>\n",
       "      <td>No</td>\n",
       "      <td>Month-to-month</td>\n",
       "      <td>No</td>\n",
       "      <td>Electronic check</td>\n",
       "      <td>53.45</td>\n",
       "      <td>119.50</td>\n",
       "      <td>0</td>\n",
       "    </tr>\n",
       "  </tbody>\n",
       "</table>\n",
       "<p>5 rows × 21 columns</p>\n",
       "</div>"
      ],
      "text/plain": [
       "   customerID  gender  SeniorCitizen Partner Dependents  tenure PhoneService  \\\n",
       "0  7010-BRBUU    Male              0     Yes        Yes      72          Yes   \n",
       "1  9688-YGXVR  Female              0      No         No      44          Yes   \n",
       "2  9286-DOJGF  Female              1     Yes         No      38          Yes   \n",
       "3  6994-KERXL    Male              0      No         No       4          Yes   \n",
       "4  2181-UAESM    Male              0      No         No       2          Yes   \n",
       "\n",
       "  MultipleLines InternetService       OnlineSecurity  ...  \\\n",
       "0           Yes              No  No internet service  ...   \n",
       "1            No     Fiber optic                   No  ...   \n",
       "2           Yes     Fiber optic                   No  ...   \n",
       "3            No             DSL                   No  ...   \n",
       "4            No             DSL                  Yes  ...   \n",
       "\n",
       "      DeviceProtection          TechSupport          StreamingTV  \\\n",
       "0  No internet service  No internet service  No internet service   \n",
       "1                  Yes                   No                  Yes   \n",
       "2                   No                   No                   No   \n",
       "3                   No                   No                   No   \n",
       "4                  Yes                   No                   No   \n",
       "\n",
       "       StreamingMovies        Contract PaperlessBilling  \\\n",
       "0  No internet service        Two year               No   \n",
       "1                   No  Month-to-month              Yes   \n",
       "2                   No  Month-to-month              Yes   \n",
       "3                  Yes  Month-to-month              Yes   \n",
       "4                   No  Month-to-month               No   \n",
       "\n",
       "               PaymentMethod MonthlyCharges  TotalCharges  Churn  \n",
       "0    Credit card (automatic)          24.10       1734.65      0  \n",
       "1    Credit card (automatic)          88.15       3973.20      0  \n",
       "2  Bank transfer (automatic)          74.95       2869.85      1  \n",
       "3           Electronic check          55.90        238.50      0  \n",
       "4           Electronic check          53.45        119.50      0  \n",
       "\n",
       "[5 rows x 21 columns]"
      ]
     },
     "execution_count": 19,
     "metadata": {},
     "output_type": "execute_result"
    }
   ],
   "source": [
    "df.head()"
   ]
  },
  {
   "cell_type": "markdown",
   "metadata": {},
   "source": [
    "Так как большинство методов машинного обучения не работают с категориальными данными, перед исследованием зависимостей преобразуем эти данные в числовое представление. Поскольку датасет содержит относительно немного признаков, а сами категориальные признаки имеют не более четырех значений, будем использовать one-hot-encoding, который можно реализовать с помощью метода get_dummies()."
   ]
  },
  {
   "cell_type": "code",
   "execution_count": 20,
   "metadata": {},
   "outputs": [],
   "source": [
    "df_dummies = pd.get_dummies(df[numerical_col + categorical_col + target_col])"
   ]
  },
  {
   "cell_type": "markdown",
   "metadata": {},
   "source": [
    "В результате применения one-hot-encoding, было получено 45 признаков. Для построения качественной модели машинного обучения следует исключить признаки, имеющие слабую взаимосвязь с целевой переменной."
   ]
  },
  {
   "cell_type": "markdown",
   "metadata": {},
   "source": [
    "Для получения количественной оценки взаимосвязи признаков с целевой переменной построим корреляционную матрицу."
   ]
  },
  {
   "cell_type": "code",
   "execution_count": 21,
   "metadata": {},
   "outputs": [],
   "source": [
    "corr_m = df_dummies.corr()"
   ]
  },
  {
   "cell_type": "markdown",
   "metadata": {},
   "source": [
    "Для удобства рассмотрим столбец 'Churn' корреляционной матрицы, так как именно с ним исследуется взаимосвязь остальных столбцов датасета. Поскольку при построении модели машинного обучения нас интересует как прямая, так и обратная зависимость целевой переменной от признаков, рассмотрим модули коэффициентов корреляции. Отсортируем полученые значения в порядке убывания и рассмотрим признаки, коэффициент корреляции которых с целевой переменной более 0.1."
   ]
  },
  {
   "cell_type": "code",
   "execution_count": 22,
   "metadata": {},
   "outputs": [
    {
     "data": {
      "text/html": [
       "<div>\n",
       "<style scoped>\n",
       "    .dataframe tbody tr th:only-of-type {\n",
       "        vertical-align: middle;\n",
       "    }\n",
       "\n",
       "    .dataframe tbody tr th {\n",
       "        vertical-align: top;\n",
       "    }\n",
       "\n",
       "    .dataframe thead th {\n",
       "        text-align: right;\n",
       "    }\n",
       "</style>\n",
       "<table border=\"1\" class=\"dataframe\">\n",
       "  <thead>\n",
       "    <tr style=\"text-align: right;\">\n",
       "      <th></th>\n",
       "      <th>index</th>\n",
       "      <th>Churn</th>\n",
       "    </tr>\n",
       "  </thead>\n",
       "  <tbody>\n",
       "    <tr>\n",
       "      <th>0</th>\n",
       "      <td>Contract_Month-to-month</td>\n",
       "      <td>0.403332</td>\n",
       "    </tr>\n",
       "    <tr>\n",
       "      <th>1</th>\n",
       "      <td>tenure</td>\n",
       "      <td>0.350420</td>\n",
       "    </tr>\n",
       "    <tr>\n",
       "      <th>2</th>\n",
       "      <td>OnlineSecurity_No</td>\n",
       "      <td>0.341085</td>\n",
       "    </tr>\n",
       "    <tr>\n",
       "      <th>3</th>\n",
       "      <td>TechSupport_No</td>\n",
       "      <td>0.330572</td>\n",
       "    </tr>\n",
       "    <tr>\n",
       "      <th>4</th>\n",
       "      <td>Contract_Two year</td>\n",
       "      <td>0.301171</td>\n",
       "    </tr>\n",
       "    <tr>\n",
       "      <th>5</th>\n",
       "      <td>InternetService_Fiber optic</td>\n",
       "      <td>0.300297</td>\n",
       "    </tr>\n",
       "    <tr>\n",
       "      <th>6</th>\n",
       "      <td>PaymentMethod_Electronic check</td>\n",
       "      <td>0.296304</td>\n",
       "    </tr>\n",
       "    <tr>\n",
       "      <th>7</th>\n",
       "      <td>OnlineBackup_No</td>\n",
       "      <td>0.264757</td>\n",
       "    </tr>\n",
       "    <tr>\n",
       "      <th>8</th>\n",
       "      <td>DeviceProtection_No</td>\n",
       "      <td>0.251938</td>\n",
       "    </tr>\n",
       "    <tr>\n",
       "      <th>9</th>\n",
       "      <td>InternetService_No</td>\n",
       "      <td>0.223416</td>\n",
       "    </tr>\n",
       "    <tr>\n",
       "      <th>10</th>\n",
       "      <td>StreamingMovies_No internet service</td>\n",
       "      <td>0.223416</td>\n",
       "    </tr>\n",
       "    <tr>\n",
       "      <th>11</th>\n",
       "      <td>StreamingTV_No internet service</td>\n",
       "      <td>0.223416</td>\n",
       "    </tr>\n",
       "    <tr>\n",
       "      <th>12</th>\n",
       "      <td>TechSupport_No internet service</td>\n",
       "      <td>0.223416</td>\n",
       "    </tr>\n",
       "    <tr>\n",
       "      <th>13</th>\n",
       "      <td>DeviceProtection_No internet service</td>\n",
       "      <td>0.223416</td>\n",
       "    </tr>\n",
       "    <tr>\n",
       "      <th>14</th>\n",
       "      <td>OnlineSecurity_No internet service</td>\n",
       "      <td>0.223416</td>\n",
       "    </tr>\n",
       "    <tr>\n",
       "      <th>15</th>\n",
       "      <td>OnlineBackup_No internet service</td>\n",
       "      <td>0.223416</td>\n",
       "    </tr>\n",
       "    <tr>\n",
       "      <th>16</th>\n",
       "      <td>TotalCharges</td>\n",
       "      <td>0.197632</td>\n",
       "    </tr>\n",
       "    <tr>\n",
       "      <th>17</th>\n",
       "      <td>PaperlessBilling_Yes</td>\n",
       "      <td>0.188653</td>\n",
       "    </tr>\n",
       "    <tr>\n",
       "      <th>18</th>\n",
       "      <td>PaperlessBilling_No</td>\n",
       "      <td>0.188653</td>\n",
       "    </tr>\n",
       "    <tr>\n",
       "      <th>19</th>\n",
       "      <td>MonthlyCharges</td>\n",
       "      <td>0.186122</td>\n",
       "    </tr>\n",
       "    <tr>\n",
       "      <th>20</th>\n",
       "      <td>Contract_One year</td>\n",
       "      <td>0.176276</td>\n",
       "    </tr>\n",
       "    <tr>\n",
       "      <th>21</th>\n",
       "      <td>OnlineSecurity_Yes</td>\n",
       "      <td>0.174280</td>\n",
       "    </tr>\n",
       "    <tr>\n",
       "      <th>22</th>\n",
       "      <td>TechSupport_Yes</td>\n",
       "      <td>0.161985</td>\n",
       "    </tr>\n",
       "    <tr>\n",
       "      <th>23</th>\n",
       "      <td>Dependents_No</td>\n",
       "      <td>0.159025</td>\n",
       "    </tr>\n",
       "    <tr>\n",
       "      <th>24</th>\n",
       "      <td>Dependents_Yes</td>\n",
       "      <td>0.159025</td>\n",
       "    </tr>\n",
       "    <tr>\n",
       "      <th>25</th>\n",
       "      <td>SeniorCitizen</td>\n",
       "      <td>0.149726</td>\n",
       "    </tr>\n",
       "    <tr>\n",
       "      <th>26</th>\n",
       "      <td>Partner_No</td>\n",
       "      <td>0.146378</td>\n",
       "    </tr>\n",
       "    <tr>\n",
       "      <th>27</th>\n",
       "      <td>Partner_Yes</td>\n",
       "      <td>0.146378</td>\n",
       "    </tr>\n",
       "    <tr>\n",
       "      <th>28</th>\n",
       "      <td>PaymentMethod_Credit card (automatic)</td>\n",
       "      <td>0.135629</td>\n",
       "    </tr>\n",
       "    <tr>\n",
       "      <th>29</th>\n",
       "      <td>StreamingMovies_No</td>\n",
       "      <td>0.129615</td>\n",
       "    </tr>\n",
       "    <tr>\n",
       "      <th>30</th>\n",
       "      <td>StreamingTV_No</td>\n",
       "      <td>0.127512</td>\n",
       "    </tr>\n",
       "    <tr>\n",
       "      <th>31</th>\n",
       "      <td>InternetService_DSL</td>\n",
       "      <td>0.120423</td>\n",
       "    </tr>\n",
       "    <tr>\n",
       "      <th>32</th>\n",
       "      <td>PaymentMethod_Bank transfer (automatic)</td>\n",
       "      <td>0.112614</td>\n",
       "    </tr>\n",
       "  </tbody>\n",
       "</table>\n",
       "</div>"
      ],
      "text/plain": [
       "                                      index     Churn\n",
       "0                   Contract_Month-to-month  0.403332\n",
       "1                                    tenure  0.350420\n",
       "2                         OnlineSecurity_No  0.341085\n",
       "3                            TechSupport_No  0.330572\n",
       "4                         Contract_Two year  0.301171\n",
       "5               InternetService_Fiber optic  0.300297\n",
       "6            PaymentMethod_Electronic check  0.296304\n",
       "7                           OnlineBackup_No  0.264757\n",
       "8                       DeviceProtection_No  0.251938\n",
       "9                        InternetService_No  0.223416\n",
       "10      StreamingMovies_No internet service  0.223416\n",
       "11          StreamingTV_No internet service  0.223416\n",
       "12          TechSupport_No internet service  0.223416\n",
       "13     DeviceProtection_No internet service  0.223416\n",
       "14       OnlineSecurity_No internet service  0.223416\n",
       "15         OnlineBackup_No internet service  0.223416\n",
       "16                             TotalCharges  0.197632\n",
       "17                     PaperlessBilling_Yes  0.188653\n",
       "18                      PaperlessBilling_No  0.188653\n",
       "19                           MonthlyCharges  0.186122\n",
       "20                        Contract_One year  0.176276\n",
       "21                       OnlineSecurity_Yes  0.174280\n",
       "22                          TechSupport_Yes  0.161985\n",
       "23                            Dependents_No  0.159025\n",
       "24                           Dependents_Yes  0.159025\n",
       "25                            SeniorCitizen  0.149726\n",
       "26                               Partner_No  0.146378\n",
       "27                              Partner_Yes  0.146378\n",
       "28    PaymentMethod_Credit card (automatic)  0.135629\n",
       "29                       StreamingMovies_No  0.129615\n",
       "30                           StreamingTV_No  0.127512\n",
       "31                      InternetService_DSL  0.120423\n",
       "32  PaymentMethod_Bank transfer (automatic)  0.112614"
      ]
     },
     "execution_count": 22,
     "metadata": {},
     "output_type": "execute_result"
    }
   ],
   "source": [
    "abs(corr_m['Churn']).sort_values(ascending=False)[1:][abs(corr_m['Churn']) > 0.1].reset_index()"
   ]
  },
  {
   "cell_type": "markdown",
   "metadata": {},
   "source": [
    "Как видно из полученной выше таблицы, 6 признаков, имеют умеренную корреляционную связь с целевой переменной по шкале Чеддока, 27 признаков - слабую. Значения корреляционных коэффициентов подтвердили ранее выдвинутые предположения о взаимосвязи признаков tenure, TotalCharges а также  InternetService, DeviceProtection, TechSupport, Contract и PaymentMethod. Между оставшимися двенадцатью признаками и целевой пременной, в соответствии с рассматриваемой шкалой, взаимосвязь ничтожно мала. Предположительно, эти признаки будут исключены из рассмотрения при построении модели. Какие признаки будут отобраны для построения модели будет решено далее с помощью градиентного бустинга. "
   ]
  },
  {
   "cell_type": "markdown",
   "metadata": {},
   "source": [
    "Для прогнозирования оттокаклиентов необходимо решить задачу бинарной классификации. Для этого будем использовать распространенные алгоритмы классификации: метод ближайших соседей, наивный Баессовский классификатор, дерево решений, логистическую регрессию, а также методы, представляющие собой ансамбли алгоритмов: случайный лес и градиентный бустинг (xgBoost)."
   ]
  },
  {
   "cell_type": "markdown",
   "metadata": {
    "id": "YnZrI40dVYSZ"
   },
   "source": [
    "# 3. Построение моделей для прогнозирования оттока"
   ]
  },
  {
   "cell_type": "code",
   "execution_count": 23,
   "metadata": {},
   "outputs": [],
   "source": [
    "from sklearn.model_selection import train_test_split, GridSearchCV\n",
    "from sklearn.preprocessing import StandardScaler\n",
    "from sklearn.neighbors import KNeighborsClassifier\n",
    "from sklearn.naive_bayes import GaussianNB\n",
    "from sklearn.tree import DecisionTreeClassifier\n",
    "from sklearn.linear_model import LogisticRegression\n",
    "from sklearn.metrics import roc_auc_score, confusion_matrix, recall_score, precision_score, accuracy_score, f1_score\n",
    "from sklearn.ensemble import RandomForestClassifier\n",
    "from xgboost import XGBClassifier"
   ]
  },
  {
   "cell_type": "markdown",
   "metadata": {},
   "source": [
    "Сначала проведем обучение всех выбранных алгоритмов на всех признаках, полученнных в результате применения get_dummies. Обучение будет осуществляться посредством поиска по сетке параметров с помощью метода GridSedrch. Далее с помощью методов градиентного бустинга (XGBClassifier) и случайного леса (RandomForestClassifier) будет произведен отбор наиболее значимых признаков, на которых снова будут обучены выбранные алгоритмы. После этого будет принято решение на каком наборе признаков будет построена наилучшая модель. Качество полученных моделей будет оцениваться на основе метрики auc-roc, отражающей вероятность правильного предсказания класса. "
   ]
  },
  {
   "cell_type": "markdown",
   "metadata": {},
   "source": [
    "Разобьем датасет на тренировочную и тестовую выборки. Для удобства создадим список названий столбцов с новыми признаки (после применения get_dummies)"
   ]
  },
  {
   "cell_type": "code",
   "execution_count": 165,
   "metadata": {},
   "outputs": [],
   "source": [
    "features_dum = list(df_dummies.columns) #список названий столбцов с dummies-признаками\n",
    "features_dum.remove('Churn')"
   ]
  },
  {
   "cell_type": "markdown",
   "metadata": {},
   "source": [
    "Для удобства напишем функцию предобработки данных, которая будет разбивать данные на тренировочную и тестовую выборки и осуществлять стандартизацию с помощью StandardScaler."
   ]
  },
  {
   "cell_type": "code",
   "execution_count": 166,
   "metadata": {},
   "outputs": [],
   "source": [
    "\"\"\"\n",
    "На вход функции подаются признаки и целевая переменная в виде массива numpy. \n",
    "Функция фозвращает тренировочную и тестовую выборки признаков \n",
    "и целевой переменной, прошедшие стандартизацию\n",
    "\"\"\"\n",
    "\n",
    "def preprocess(features, target):\n",
    "    x_train, x_test, y_train, y_test = train_test_split(features, target, test_size=0.25, stratify = target, random_state=17)\n",
    "    scaler = StandardScaler()\n",
    "    x_train = scaler.fit_transform(x_train)\n",
    "    x_test = scaler.transform(x_test)\n",
    "    return x_train, x_test, y_train, y_test"
   ]
  },
  {
   "cell_type": "code",
   "execution_count": 167,
   "metadata": {},
   "outputs": [],
   "source": [
    "features = df_dummies[features_dum].values\n",
    "target = df_dummies[target_col].values.reshape(-1)\n",
    "data_all_dummies = preprocess(features, target) # данные для обучения на всех dummies-признаках"
   ]
  },
  {
   "cell_type": "code",
   "execution_count": 168,
   "metadata": {},
   "outputs": [],
   "source": [
    "# экземпляры классификаторов\n",
    "knc = KNeighborsClassifier() \n",
    "gnb = GaussianNB()\n",
    "dtc = DecisionTreeClassifier(random_state=17)\n",
    "lr = LogisticRegression(max_iter=300, random_state=17)\n",
    "rfc = RandomForestClassifier(random_state=17) \n",
    "xgb = XGBClassifier(random_state=17, eval_metric='logloss')"
   ]
  },
  {
   "cell_type": "code",
   "execution_count": 28,
   "metadata": {},
   "outputs": [],
   "source": [
    "\"\"\"\n",
    "Функция принимает словарь из классификаторов и их названий classifier, параметр scoring, определяющий какую метрику будет \n",
    "максимизировать поиск по сетке, а также список train_test_data, содержащий треноровочную и тестовую выборки признаков и \n",
    "целевой переменной.\n",
    "Возвращает датафрейм, содержащий метрики качества обученных моделей, и словарь, где ключами являются названия алгоритмов, \n",
    "а значениями - модели с наилучшими гиперпараметрами.\n",
    "\"\"\"\n",
    "def grid_search(classifiers, scoring, train_test_data): # 'roc_auc'\n",
    "    metrics = {}  # словарь для записи метрик\n",
    "    best_estimators = {}\n",
    "    for cl, val in classifiers.items(): # итерация по классификаторапм и их названиям\n",
    "        cl_name = val[0]\n",
    "        params = val[1]\n",
    "        x_train, x_test, y_train, y_test = train_test_data[0], train_test_data[1], train_test_data[2], train_test_data[3]\n",
    "        cl_grid_search = GridSearchCV(estimator=cl, param_grid=params, scoring=scoring, n_jobs=10, cv=10, verbose=True)\n",
    "        cl_grid_search.fit(x_train, y_train)\n",
    "        pred = cl_grid_search.predict(x_test) # предсказание\n",
    "        acc = accuracy_score(y_test, pred)\n",
    "        pr = precision_score(y_test, pred)\n",
    "        rec = recall_score(y_test, pred)\n",
    "        f1 = f1_score(y_test, pred)\n",
    "        \n",
    "        pred_prob = cl_grid_search.predict_proba(x_test)[:, 1]\n",
    "        auc = roc_auc_score(y_test, pred_prob)\n",
    "        #auc = roc_auc_score(y_test, pred)\n",
    "        metrics[cl_name] = [acc, pr, rec, f1, auc] # Запись списка метрик в словарь по названию алгоритма\n",
    "        best_estimators[cl_name] = cl_grid_search.best_estimator_\n",
    "\n",
    "        # преобразхование метрик в датафрейм\n",
    "        df_metrics = pd.DataFrame(metrics)   \n",
    "        df_metrics.index = ['accuracy', 'precision', 'recall', 'f1_score', 'auc_roc']\n",
    "        \n",
    "    return [df_metrics, best_estimators]"
   ]
  },
  {
   "cell_type": "code",
   "execution_count": 29,
   "metadata": {},
   "outputs": [],
   "source": [
    "# словарь классификаторов и их названий для дальнейшего применения в функции grid_searchs \n",
    "classifiers = {knc: ['KNeighborsClassifier'], gnb: ['GaussianNB'], dtc: ['DecisionTreeClassifier'], lr: ['LogisticRegression'],\n",
    "               rfc: ['RandomForestClassifier'], xgb: ['XGBClassifier']}"
   ]
  },
  {
   "cell_type": "markdown",
   "metadata": {},
   "source": [
    "На основе отношения количества классов \"0\" и \"1\", зададим веса в сетке параметров алгоритмов, где это возможно."
   ]
  },
  {
   "cell_type": "code",
   "execution_count": 169,
   "metadata": {},
   "outputs": [
    {
     "name": "stdout",
     "output_type": "stream",
     "text": [
      "neg/pos: 2.77\n"
     ]
    }
   ],
   "source": [
    "neg_pos = df['Churn'][df['Churn'] == 0].count() / df['Churn'][df['Churn'] == 1].count()\n",
    "print('neg/pos: %.2f' % neg_pos)"
   ]
  },
  {
   "cell_type": "code",
   "execution_count": 170,
   "metadata": {},
   "outputs": [],
   "source": [
    "# список с параметрами классификаторов в соответствии с их порядком в списке \"classifiers\"\n",
    "parameters = [\n",
    "    # параметры для KNeighborsClassifier\n",
    "    {\n",
    "        'n_neighbors': range (2, 30),\n",
    "        'weights': ['uniform', 'distance']\n",
    "    },\n",
    "    # параметры для GaussianNB\n",
    "    {\n",
    "        'var_smoothing': np.logspace(0,-9, num=50)\n",
    "    },\n",
    "    # параметры для DecisionTreeClassifier\n",
    "    {\n",
    "        'max_depth': range (2, 10, 1),\n",
    "        'max_features': ['auto', 'sqrt', 'log2'],\n",
    "        'class_weight': [{0:1, 1:neg_pos}, {0:1, 1:neg_pos/2}, {0:1, 1:1}]\n",
    "    },\n",
    "    # параметры для LogisticRegression\n",
    "    {\n",
    "        'penalty': ['l1','l2', 'elasticnet'], \n",
    "        'C': np.logspace(-3,3,20), \n",
    "        'class_weight': [{0:1, 1:neg_pos}, {0:1, 1:neg_pos/2}, {0:1, 1:1}]\n",
    "    },\n",
    "    # параметры для RandomForestClassifier\n",
    "    {\n",
    "        'max_depth': range (2, 10, 1),\n",
    "        'n_estimators': range (20, 220, 20),\n",
    "        #'max_features': ['auto', 'sqrt', 'log2'],\n",
    "        'class_weight': [{0:1, 1:neg_pos}, {0:1, 1:neg_pos/2}, {0:1, 1:1}]\n",
    "    },\n",
    "    # параметры для XGBClassifier\n",
    "    {\n",
    "        'max_depth': range (2, 10, 1), \n",
    "        'n_estimators': range(20, 220, 20),\n",
    "        'scale_pos_weight': [neg_pos, neg_pos/2, 1]\n",
    "    }\n",
    "]"
   ]
  },
  {
   "cell_type": "code",
   "execution_count": 171,
   "metadata": {},
   "outputs": [],
   "source": [
    "# запишем параметры для поиска по сетке в словарь classifiers\n",
    "for n, val in enumerate(classifiers.values()):\n",
    "    val.append(parameters[n])"
   ]
  },
  {
   "cell_type": "markdown",
   "metadata": {},
   "source": [
    "## Расчет метрик всех алгоритмов с помощью поиска по сетке на всех признаках, scoring='roc_auc'"
   ]
  },
  {
   "cell_type": "code",
   "execution_count": 172,
   "metadata": {},
   "outputs": [
    {
     "name": "stdout",
     "output_type": "stream",
     "text": [
      "Fitting 10 folds for each of 56 candidates, totalling 560 fits\n"
     ]
    },
    {
     "name": "stderr",
     "output_type": "stream",
     "text": [
      "[Parallel(n_jobs=10)]: Using backend LokyBackend with 10 concurrent workers.\n",
      "[Parallel(n_jobs=10)]: Done  30 tasks      | elapsed:    4.1s\n",
      "[Parallel(n_jobs=10)]: Done 180 tasks      | elapsed:    9.8s\n",
      "[Parallel(n_jobs=10)]: Done 430 tasks      | elapsed:   20.0s\n",
      "[Parallel(n_jobs=10)]: Done 560 out of 560 | elapsed:   25.3s finished\n"
     ]
    },
    {
     "name": "stdout",
     "output_type": "stream",
     "text": [
      "Fitting 10 folds for each of 50 candidates, totalling 500 fits\n"
     ]
    },
    {
     "name": "stderr",
     "output_type": "stream",
     "text": [
      "[Parallel(n_jobs=10)]: Using backend LokyBackend with 10 concurrent workers.\n",
      "[Parallel(n_jobs=10)]: Done  40 tasks      | elapsed:    0.0s\n",
      "[Parallel(n_jobs=10)]: Done 500 out of 500 | elapsed:    1.1s finished\n",
      "[Parallel(n_jobs=10)]: Using backend LokyBackend with 10 concurrent workers.\n"
     ]
    },
    {
     "name": "stdout",
     "output_type": "stream",
     "text": [
      "Fitting 10 folds for each of 72 candidates, totalling 720 fits\n"
     ]
    },
    {
     "name": "stderr",
     "output_type": "stream",
     "text": [
      "[Parallel(n_jobs=10)]: Done  40 tasks      | elapsed:    0.0s\n",
      "[Parallel(n_jobs=10)]: Done 700 tasks      | elapsed:    1.1s\n",
      "[Parallel(n_jobs=10)]: Done 720 out of 720 | elapsed:    1.2s finished\n",
      "[Parallel(n_jobs=10)]: Using backend LokyBackend with 10 concurrent workers.\n"
     ]
    },
    {
     "name": "stdout",
     "output_type": "stream",
     "text": [
      "Fitting 10 folds for each of 180 candidates, totalling 1800 fits\n"
     ]
    },
    {
     "name": "stderr",
     "output_type": "stream",
     "text": [
      "[Parallel(n_jobs=10)]: Done  40 tasks      | elapsed:    0.0s\n",
      "[Parallel(n_jobs=10)]: Done 1675 tasks      | elapsed:    5.1s\n",
      "[Parallel(n_jobs=10)]: Done 1800 out of 1800 | elapsed:    5.5s finished\n",
      "[Parallel(n_jobs=10)]: Using backend LokyBackend with 10 concurrent workers.\n"
     ]
    },
    {
     "name": "stdout",
     "output_type": "stream",
     "text": [
      "Fitting 10 folds for each of 240 candidates, totalling 2400 fits\n"
     ]
    },
    {
     "name": "stderr",
     "output_type": "stream",
     "text": [
      "[Parallel(n_jobs=10)]: Done  40 tasks      | elapsed:    1.4s\n",
      "[Parallel(n_jobs=10)]: Done 230 tasks      | elapsed:   12.5s\n",
      "[Parallel(n_jobs=10)]: Done 480 tasks      | elapsed:   30.7s\n",
      "[Parallel(n_jobs=10)]: Done 830 tasks      | elapsed:   58.5s\n",
      "[Parallel(n_jobs=10)]: Done 1280 tasks      | elapsed:  1.5min\n",
      "[Parallel(n_jobs=10)]: Done 1830 tasks      | elapsed:  2.1min\n",
      "[Parallel(n_jobs=10)]: Done 2400 out of 2400 | elapsed:  2.9min finished\n"
     ]
    },
    {
     "name": "stdout",
     "output_type": "stream",
     "text": [
      "Fitting 10 folds for each of 240 candidates, totalling 2400 fits\n"
     ]
    },
    {
     "name": "stderr",
     "output_type": "stream",
     "text": [
      "[Parallel(n_jobs=10)]: Using backend LokyBackend with 10 concurrent workers.\n",
      "[Parallel(n_jobs=10)]: Done  30 tasks      | elapsed:    1.7s\n",
      "[Parallel(n_jobs=10)]: Done 180 tasks      | elapsed:   11.9s\n",
      "[Parallel(n_jobs=10)]: Done 430 tasks      | elapsed:   37.1s\n",
      "[Parallel(n_jobs=10)]: Done 780 tasks      | elapsed:  1.4min\n",
      "[Parallel(n_jobs=10)]: Done 1230 tasks      | elapsed:  2.9min\n",
      "[Parallel(n_jobs=10)]: Done 1780 tasks      | elapsed:  5.3min\n",
      "[Parallel(n_jobs=10)]: Done 2400 out of 2400 | elapsed:  8.8min finished\n",
      "D:\\Anaconda3\\lib\\site-packages\\xgboost\\sklearn.py:1224: UserWarning: The use of label encoder in XGBClassifier is deprecated and will be removed in a future release. To remove this warning, do the following: 1) Pass option use_label_encoder=False when constructing XGBClassifier object; and 2) Encode your labels (y) as integers starting with 0, i.e. 0, 1, 2, ..., [num_class - 1].\n",
      "  warnings.warn(label_encoder_deprecation_msg, UserWarning)\n"
     ]
    }
   ],
   "source": [
    "gs_all_dum_feat = grid_search(classifiers, 'roc_auc', data_all_dummies)"
   ]
  },
  {
   "cell_type": "markdown",
   "metadata": {},
   "source": [
    "Проанализируем важность признаков с помощью XGBClassifier  "
   ]
  },
  {
   "cell_type": "code",
   "execution_count": 174,
   "metadata": {},
   "outputs": [
    {
     "data": {
      "text/plain": [
       "Contract_Month-to-month           0.437666\n",
       "InternetService_Fiber optic       0.108666\n",
       "TechSupport_No                    0.076728\n",
       "OnlineSecurity_No                 0.073667\n",
       "tenure                            0.056043\n",
       "PaymentMethod_Electronic check    0.053031\n",
       "Contract_Two year                 0.045353\n",
       "StreamingTV_Yes                   0.026683\n",
       "StreamingMovies_Yes               0.021697\n",
       "InternetService_No                0.020118\n",
       "MonthlyCharges                    0.018836\n",
       "PaperlessBilling_No               0.014309\n",
       "MultipleLines_No                  0.013362\n",
       "OnlineBackup_No                   0.012958\n",
       "TotalCharges                      0.009520\n",
       "InternetService_DSL               0.005754\n",
       "Contract_One year                 0.005610\n",
       "dtype: float32"
      ]
     },
     "execution_count": 174,
     "metadata": {},
     "output_type": "execute_result"
    }
   ],
   "source": [
    "xgb = gs_all_dum_feat[1]['XGBClassifier']\n",
    "features_xgb = pd.Series(xgb.feature_importances_, index=features_dum).sort_values(ascending=False)\n",
    "features_xgb[features_xgb != 0] # отберем признаки, значимость которых не равна нулю"
   ]
  },
  {
   "cell_type": "code",
   "execution_count": 175,
   "metadata": {},
   "outputs": [
    {
     "name": "stdout",
     "output_type": "stream",
     "text": [
      "Количество отобранных признаков: 17\n"
     ]
    }
   ],
   "source": [
    "print('Количество отобранных признаков:', features_xgb[features_xgb != 0].shape[0])"
   ]
  },
  {
   "cell_type": "code",
   "execution_count": 176,
   "metadata": {},
   "outputs": [],
   "source": [
    "features_xgb = list(features_xgb[features_xgb != 0].index) # Запишем признаки в список"
   ]
  },
  {
   "cell_type": "markdown",
   "metadata": {},
   "source": [
    "Отобрав признаки с помощью градиентного бустинга, обучим на них те же алгоритмы посредством поиска по сетке, предварительно осуществив предобработку данных."
   ]
  },
  {
   "cell_type": "code",
   "execution_count": 178,
   "metadata": {},
   "outputs": [],
   "source": [
    "features = df_dummies[features_xgb].values\n",
    "target = df_dummies[target_col].values.reshape(-1)\n",
    "data_xgb = preprocess(features, target)"
   ]
  },
  {
   "cell_type": "code",
   "execution_count": 179,
   "metadata": {},
   "outputs": [
    {
     "name": "stdout",
     "output_type": "stream",
     "text": [
      "Fitting 10 folds for each of 56 candidates, totalling 560 fits\n"
     ]
    },
    {
     "name": "stderr",
     "output_type": "stream",
     "text": [
      "[Parallel(n_jobs=10)]: Using backend LokyBackend with 10 concurrent workers.\n",
      "[Parallel(n_jobs=10)]: Done  40 tasks      | elapsed:    0.3s\n",
      "[Parallel(n_jobs=10)]: Done 541 out of 560 | elapsed:    5.4s remaining:    0.1s\n",
      "[Parallel(n_jobs=10)]: Done 560 out of 560 | elapsed:    5.5s finished\n"
     ]
    },
    {
     "name": "stdout",
     "output_type": "stream",
     "text": [
      "Fitting 10 folds for each of 50 candidates, totalling 500 fits\n"
     ]
    },
    {
     "name": "stderr",
     "output_type": "stream",
     "text": [
      "[Parallel(n_jobs=10)]: Using backend LokyBackend with 10 concurrent workers.\n",
      "[Parallel(n_jobs=10)]: Done  40 tasks      | elapsed:    0.0s\n",
      "[Parallel(n_jobs=10)]: Done 500 out of 500 | elapsed:    0.6s finished\n",
      "[Parallel(n_jobs=10)]: Using backend LokyBackend with 10 concurrent workers.\n",
      "[Parallel(n_jobs=10)]: Done  40 tasks      | elapsed:    0.0s\n"
     ]
    },
    {
     "name": "stdout",
     "output_type": "stream",
     "text": [
      "Fitting 10 folds for each of 72 candidates, totalling 720 fits\n"
     ]
    },
    {
     "name": "stderr",
     "output_type": "stream",
     "text": [
      "[Parallel(n_jobs=10)]: Done 685 tasks      | elapsed:    0.9s\n",
      "[Parallel(n_jobs=10)]: Done 701 out of 720 | elapsed:    0.9s remaining:    0.0s\n",
      "[Parallel(n_jobs=10)]: Done 720 out of 720 | elapsed:    0.9s finished\n",
      "[Parallel(n_jobs=10)]: Using backend LokyBackend with 10 concurrent workers.\n"
     ]
    },
    {
     "name": "stdout",
     "output_type": "stream",
     "text": [
      "Fitting 10 folds for each of 180 candidates, totalling 1800 fits\n"
     ]
    },
    {
     "name": "stderr",
     "output_type": "stream",
     "text": [
      "[Parallel(n_jobs=10)]: Done  40 tasks      | elapsed:    0.1s\n",
      "[Parallel(n_jobs=10)]: Done 1590 tasks      | elapsed:    2.8s\n",
      "[Parallel(n_jobs=10)]: Done 1800 out of 1800 | elapsed:    3.2s finished\n",
      "[Parallel(n_jobs=10)]: Using backend LokyBackend with 10 concurrent workers.\n"
     ]
    },
    {
     "name": "stdout",
     "output_type": "stream",
     "text": [
      "Fitting 10 folds for each of 240 candidates, totalling 2400 fits\n"
     ]
    },
    {
     "name": "stderr",
     "output_type": "stream",
     "text": [
      "[Parallel(n_jobs=10)]: Done  40 tasks      | elapsed:    1.7s\n",
      "[Parallel(n_jobs=10)]: Done 220 tasks      | elapsed:   13.2s\n",
      "[Parallel(n_jobs=10)]: Done 470 tasks      | elapsed:   34.5s\n",
      "[Parallel(n_jobs=10)]: Done 820 tasks      | elapsed:  1.1min\n",
      "[Parallel(n_jobs=10)]: Done 1270 tasks      | elapsed:  1.6min\n",
      "[Parallel(n_jobs=10)]: Done 1820 tasks      | elapsed:  2.2min\n",
      "[Parallel(n_jobs=10)]: Done 2400 out of 2400 | elapsed:  3.0min finished\n"
     ]
    },
    {
     "name": "stdout",
     "output_type": "stream",
     "text": [
      "Fitting 10 folds for each of 240 candidates, totalling 2400 fits\n"
     ]
    },
    {
     "name": "stderr",
     "output_type": "stream",
     "text": [
      "[Parallel(n_jobs=10)]: Using backend LokyBackend with 10 concurrent workers.\n",
      "[Parallel(n_jobs=10)]: Done  40 tasks      | elapsed:    0.8s\n",
      "[Parallel(n_jobs=10)]: Done 270 tasks      | elapsed:   15.0s\n",
      "[Parallel(n_jobs=10)]: Done 520 tasks      | elapsed:   32.0s\n",
      "[Parallel(n_jobs=10)]: Done 870 tasks      | elapsed:  1.1min\n",
      "[Parallel(n_jobs=10)]: Done 1320 tasks      | elapsed:  2.0min\n",
      "[Parallel(n_jobs=10)]: Done 1870 tasks      | elapsed:  3.6min\n",
      "[Parallel(n_jobs=10)]: Done 2400 out of 2400 | elapsed:  5.7min finished\n",
      "D:\\Anaconda3\\lib\\site-packages\\xgboost\\sklearn.py:1224: UserWarning: The use of label encoder in XGBClassifier is deprecated and will be removed in a future release. To remove this warning, do the following: 1) Pass option use_label_encoder=False when constructing XGBClassifier object; and 2) Encode your labels (y) as integers starting with 0, i.e. 0, 1, 2, ..., [num_class - 1].\n",
      "  warnings.warn(label_encoder_deprecation_msg, UserWarning)\n"
     ]
    }
   ],
   "source": [
    "gs_imp_xgb = grid_search(classifiers, 'roc_auc', data_xgb)"
   ]
  },
  {
   "cell_type": "markdown",
   "metadata": {},
   "source": [
    "Далее проведем отбор признаков с помощью RandomForestClassifier"
   ]
  },
  {
   "cell_type": "code",
   "execution_count": 180,
   "metadata": {},
   "outputs": [
    {
     "data": {
      "text/plain": [
       "Contract_Month-to-month           0.133951\n",
       "tenure                            0.128527\n",
       "TotalCharges                      0.111378\n",
       "OnlineSecurity_No                 0.074274\n",
       "MonthlyCharges                    0.065201\n",
       "InternetService_Fiber optic       0.064198\n",
       "TechSupport_No                    0.056255\n",
       "PaymentMethod_Electronic check    0.047199\n",
       "Contract_Two year                 0.036982\n",
       "InternetService_DSL               0.024104\n",
       "OnlineSecurity_Yes                0.021684\n",
       "DeviceProtection_No               0.019299\n",
       "TechSupport_Yes                   0.017447\n",
       "OnlineBackup_No                   0.016578\n",
       "Contract_One year                 0.016304\n",
       "dtype: float64"
      ]
     },
     "execution_count": 180,
     "metadata": {},
     "output_type": "execute_result"
    }
   ],
   "source": [
    "rfc = gs_all_dum_feat[1]['RandomForestClassifier']\n",
    "features_rfc = pd.Series(rfc.feature_importances_, index=features_dum).sort_values(ascending=False)\n",
    "features_rfc[features_rfc > 0.01] # выведем признаки со значениями больше 0.01"
   ]
  },
  {
   "cell_type": "code",
   "execution_count": 181,
   "metadata": {},
   "outputs": [
    {
     "name": "stdout",
     "output_type": "stream",
     "text": [
      "Количество отобранных признаков: 15\n"
     ]
    }
   ],
   "source": [
    "print('Количество отобранных признаков:', features_rfc[features_rfc > 0.01].shape[0])"
   ]
  },
  {
   "cell_type": "code",
   "execution_count": 182,
   "metadata": {},
   "outputs": [],
   "source": [
    "features_rfc = list(features_rfc[features_rfc > 0.01].index) # Запишем признаки в список"
   ]
  },
  {
   "cell_type": "markdown",
   "metadata": {},
   "source": [
    "Обучим модели на данных, отобранных с помощью RandomForestClassifier"
   ]
  },
  {
   "cell_type": "code",
   "execution_count": 183,
   "metadata": {},
   "outputs": [],
   "source": [
    "features = df_dummies[features_rfc].values\n",
    "target = df_dummies[target_col].values.reshape(-1)\n",
    "data_rfc = preprocess(features, target)"
   ]
  },
  {
   "cell_type": "code",
   "execution_count": 184,
   "metadata": {},
   "outputs": [
    {
     "name": "stdout",
     "output_type": "stream",
     "text": [
      "Fitting 10 folds for each of 56 candidates, totalling 560 fits\n"
     ]
    },
    {
     "name": "stderr",
     "output_type": "stream",
     "text": [
      "[Parallel(n_jobs=10)]: Using backend LokyBackend with 10 concurrent workers.\n",
      "[Parallel(n_jobs=10)]: Done  40 tasks      | elapsed:    0.2s\n",
      "[Parallel(n_jobs=10)]: Done 560 out of 560 | elapsed:    4.3s finished\n"
     ]
    },
    {
     "name": "stdout",
     "output_type": "stream",
     "text": [
      "Fitting 10 folds for each of 50 candidates, totalling 500 fits\n"
     ]
    },
    {
     "name": "stderr",
     "output_type": "stream",
     "text": [
      "[Parallel(n_jobs=10)]: Using backend LokyBackend with 10 concurrent workers.\n",
      "[Parallel(n_jobs=10)]: Done  40 tasks      | elapsed:    0.0s\n",
      "[Parallel(n_jobs=10)]: Done 481 out of 500 | elapsed:    0.4s remaining:    0.0s\n",
      "[Parallel(n_jobs=10)]: Done 500 out of 500 | elapsed:    0.4s finished\n",
      "[Parallel(n_jobs=10)]: Using backend LokyBackend with 10 concurrent workers.\n",
      "[Parallel(n_jobs=10)]: Done  40 tasks      | elapsed:    0.0s\n"
     ]
    },
    {
     "name": "stdout",
     "output_type": "stream",
     "text": [
      "Fitting 10 folds for each of 72 candidates, totalling 720 fits\n"
     ]
    },
    {
     "name": "stderr",
     "output_type": "stream",
     "text": [
      "[Parallel(n_jobs=10)]: Done 685 tasks      | elapsed:    0.9s\n",
      "[Parallel(n_jobs=10)]: Done 701 out of 720 | elapsed:    0.9s remaining:    0.0s\n",
      "[Parallel(n_jobs=10)]: Done 720 out of 720 | elapsed:    0.9s finished\n",
      "[Parallel(n_jobs=10)]: Using backend LokyBackend with 10 concurrent workers.\n",
      "[Parallel(n_jobs=10)]: Done  40 tasks      | elapsed:    0.0s\n"
     ]
    },
    {
     "name": "stdout",
     "output_type": "stream",
     "text": [
      "Fitting 10 folds for each of 180 candidates, totalling 1800 fits\n"
     ]
    },
    {
     "name": "stderr",
     "output_type": "stream",
     "text": [
      "[Parallel(n_jobs=10)]: Done 1560 tasks      | elapsed:    2.1s\n",
      "[Parallel(n_jobs=10)]: Done 1800 out of 1800 | elapsed:    2.3s finished\n",
      "[Parallel(n_jobs=10)]: Using backend LokyBackend with 10 concurrent workers.\n"
     ]
    },
    {
     "name": "stdout",
     "output_type": "stream",
     "text": [
      "Fitting 10 folds for each of 240 candidates, totalling 2400 fits\n"
     ]
    },
    {
     "name": "stderr",
     "output_type": "stream",
     "text": [
      "[Parallel(n_jobs=10)]: Done  40 tasks      | elapsed:    1.3s\n",
      "[Parallel(n_jobs=10)]: Done 230 tasks      | elapsed:   11.7s\n",
      "[Parallel(n_jobs=10)]: Done 480 tasks      | elapsed:   27.7s\n",
      "[Parallel(n_jobs=10)]: Done 830 tasks      | elapsed:   52.8s\n",
      "[Parallel(n_jobs=10)]: Done 1280 tasks      | elapsed:  1.3min\n",
      "[Parallel(n_jobs=10)]: Done 1830 tasks      | elapsed:  1.9min\n",
      "[Parallel(n_jobs=10)]: Done 2400 out of 2400 | elapsed:  2.6min finished\n"
     ]
    },
    {
     "name": "stdout",
     "output_type": "stream",
     "text": [
      "Fitting 10 folds for each of 240 candidates, totalling 2400 fits\n"
     ]
    },
    {
     "name": "stderr",
     "output_type": "stream",
     "text": [
      "[Parallel(n_jobs=10)]: Using backend LokyBackend with 10 concurrent workers.\n",
      "[Parallel(n_jobs=10)]: Done  40 tasks      | elapsed:    0.8s\n",
      "[Parallel(n_jobs=10)]: Done 260 tasks      | elapsed:   14.3s\n",
      "[Parallel(n_jobs=10)]: Done 510 tasks      | elapsed:   30.8s\n",
      "[Parallel(n_jobs=10)]: Done 860 tasks      | elapsed:  1.1min\n",
      "[Parallel(n_jobs=10)]: Done 1310 tasks      | elapsed:  2.2min\n",
      "[Parallel(n_jobs=10)]: Done 1860 tasks      | elapsed:  3.9min\n",
      "[Parallel(n_jobs=10)]: Done 2400 out of 2400 | elapsed:  6.0min finished\n",
      "D:\\Anaconda3\\lib\\site-packages\\xgboost\\sklearn.py:1224: UserWarning: The use of label encoder in XGBClassifier is deprecated and will be removed in a future release. To remove this warning, do the following: 1) Pass option use_label_encoder=False when constructing XGBClassifier object; and 2) Encode your labels (y) as integers starting with 0, i.e. 0, 1, 2, ..., [num_class - 1].\n",
      "  warnings.warn(label_encoder_deprecation_msg, UserWarning)\n"
     ]
    }
   ],
   "source": [
    "gs_imp_rfc = grid_search(classifiers, 'roc_auc', data_rfc)"
   ]
  },
  {
   "cell_type": "markdown",
   "metadata": {},
   "source": [
    "### Метрики моделей, обученных на всех признаках"
   ]
  },
  {
   "cell_type": "code",
   "execution_count": 186,
   "metadata": {},
   "outputs": [
    {
     "data": {
      "text/html": [
       "<div>\n",
       "<style scoped>\n",
       "    .dataframe tbody tr th:only-of-type {\n",
       "        vertical-align: middle;\n",
       "    }\n",
       "\n",
       "    .dataframe tbody tr th {\n",
       "        vertical-align: top;\n",
       "    }\n",
       "\n",
       "    .dataframe thead th {\n",
       "        text-align: right;\n",
       "    }\n",
       "</style>\n",
       "<table border=\"1\" class=\"dataframe\">\n",
       "  <thead>\n",
       "    <tr style=\"text-align: right;\">\n",
       "      <th></th>\n",
       "      <th>KNeighborsClassifier</th>\n",
       "      <th>GaussianNB</th>\n",
       "      <th>DecisionTreeClassifier</th>\n",
       "      <th>LogisticRegression</th>\n",
       "      <th>RandomForestClassifier</th>\n",
       "      <th>XGBClassifier</th>\n",
       "    </tr>\n",
       "  </thead>\n",
       "  <tbody>\n",
       "    <tr>\n",
       "      <th>accuracy</th>\n",
       "      <td>0.784471</td>\n",
       "      <td>0.668005</td>\n",
       "      <td>0.784471</td>\n",
       "      <td>0.789826</td>\n",
       "      <td>0.803213</td>\n",
       "      <td>0.803213</td>\n",
       "    </tr>\n",
       "    <tr>\n",
       "      <th>precision</th>\n",
       "      <td>0.598425</td>\n",
       "      <td>0.437736</td>\n",
       "      <td>0.611276</td>\n",
       "      <td>0.598575</td>\n",
       "      <td>0.680702</td>\n",
       "      <td>0.676976</td>\n",
       "    </tr>\n",
       "    <tr>\n",
       "      <th>recall</th>\n",
       "      <td>0.574307</td>\n",
       "      <td>0.876574</td>\n",
       "      <td>0.518892</td>\n",
       "      <td>0.634761</td>\n",
       "      <td>0.488665</td>\n",
       "      <td>0.496222</td>\n",
       "    </tr>\n",
       "    <tr>\n",
       "      <th>f1_score</th>\n",
       "      <td>0.586118</td>\n",
       "      <td>0.583893</td>\n",
       "      <td>0.561308</td>\n",
       "      <td>0.616137</td>\n",
       "      <td>0.568915</td>\n",
       "      <td>0.572674</td>\n",
       "    </tr>\n",
       "    <tr>\n",
       "      <th>auc_roc</th>\n",
       "      <td>0.816038</td>\n",
       "      <td>0.819218</td>\n",
       "      <td>0.820929</td>\n",
       "      <td>0.842332</td>\n",
       "      <td>0.846449</td>\n",
       "      <td>0.850283</td>\n",
       "    </tr>\n",
       "  </tbody>\n",
       "</table>\n",
       "</div>"
      ],
      "text/plain": [
       "           KNeighborsClassifier  GaussianNB  DecisionTreeClassifier  \\\n",
       "accuracy               0.784471    0.668005                0.784471   \n",
       "precision              0.598425    0.437736                0.611276   \n",
       "recall                 0.574307    0.876574                0.518892   \n",
       "f1_score               0.586118    0.583893                0.561308   \n",
       "auc_roc                0.816038    0.819218                0.820929   \n",
       "\n",
       "           LogisticRegression  RandomForestClassifier  XGBClassifier  \n",
       "accuracy             0.789826                0.803213       0.803213  \n",
       "precision            0.598575                0.680702       0.676976  \n",
       "recall               0.634761                0.488665       0.496222  \n",
       "f1_score             0.616137                0.568915       0.572674  \n",
       "auc_roc              0.842332                0.846449       0.850283  "
      ]
     },
     "execution_count": 186,
     "metadata": {},
     "output_type": "execute_result"
    }
   ],
   "source": [
    "gs_all_dum_feat[0]"
   ]
  },
  {
   "cell_type": "markdown",
   "metadata": {},
   "source": [
    "### Метрики моделей, обученных на признаках, отобранных с помощью XGBoostClassifier"
   ]
  },
  {
   "cell_type": "code",
   "execution_count": 187,
   "metadata": {},
   "outputs": [
    {
     "data": {
      "text/html": [
       "<div>\n",
       "<style scoped>\n",
       "    .dataframe tbody tr th:only-of-type {\n",
       "        vertical-align: middle;\n",
       "    }\n",
       "\n",
       "    .dataframe tbody tr th {\n",
       "        vertical-align: top;\n",
       "    }\n",
       "\n",
       "    .dataframe thead th {\n",
       "        text-align: right;\n",
       "    }\n",
       "</style>\n",
       "<table border=\"1\" class=\"dataframe\">\n",
       "  <thead>\n",
       "    <tr style=\"text-align: right;\">\n",
       "      <th></th>\n",
       "      <th>KNeighborsClassifier</th>\n",
       "      <th>GaussianNB</th>\n",
       "      <th>DecisionTreeClassifier</th>\n",
       "      <th>LogisticRegression</th>\n",
       "      <th>RandomForestClassifier</th>\n",
       "      <th>XGBClassifier</th>\n",
       "    </tr>\n",
       "  </thead>\n",
       "  <tbody>\n",
       "    <tr>\n",
       "      <th>accuracy</th>\n",
       "      <td>0.793173</td>\n",
       "      <td>0.731593</td>\n",
       "      <td>0.779116</td>\n",
       "      <td>0.800535</td>\n",
       "      <td>0.755689</td>\n",
       "      <td>0.803213</td>\n",
       "    </tr>\n",
       "    <tr>\n",
       "      <th>precision</th>\n",
       "      <td>0.625714</td>\n",
       "      <td>0.496923</td>\n",
       "      <td>0.574610</td>\n",
       "      <td>0.651376</td>\n",
       "      <td>0.526059</td>\n",
       "      <td>0.676976</td>\n",
       "    </tr>\n",
       "    <tr>\n",
       "      <th>recall</th>\n",
       "      <td>0.551637</td>\n",
       "      <td>0.813602</td>\n",
       "      <td>0.649874</td>\n",
       "      <td>0.536524</td>\n",
       "      <td>0.813602</td>\n",
       "      <td>0.496222</td>\n",
       "    </tr>\n",
       "    <tr>\n",
       "      <th>f1_score</th>\n",
       "      <td>0.586345</td>\n",
       "      <td>0.617001</td>\n",
       "      <td>0.609929</td>\n",
       "      <td>0.588398</td>\n",
       "      <td>0.638971</td>\n",
       "      <td>0.572674</td>\n",
       "    </tr>\n",
       "    <tr>\n",
       "      <th>auc_roc</th>\n",
       "      <td>0.835599</td>\n",
       "      <td>0.834261</td>\n",
       "      <td>0.836572</td>\n",
       "      <td>0.842332</td>\n",
       "      <td>0.848917</td>\n",
       "      <td>0.850283</td>\n",
       "    </tr>\n",
       "  </tbody>\n",
       "</table>\n",
       "</div>"
      ],
      "text/plain": [
       "           KNeighborsClassifier  GaussianNB  DecisionTreeClassifier  \\\n",
       "accuracy               0.793173    0.731593                0.779116   \n",
       "precision              0.625714    0.496923                0.574610   \n",
       "recall                 0.551637    0.813602                0.649874   \n",
       "f1_score               0.586345    0.617001                0.609929   \n",
       "auc_roc                0.835599    0.834261                0.836572   \n",
       "\n",
       "           LogisticRegression  RandomForestClassifier  XGBClassifier  \n",
       "accuracy             0.800535                0.755689       0.803213  \n",
       "precision            0.651376                0.526059       0.676976  \n",
       "recall               0.536524                0.813602       0.496222  \n",
       "f1_score             0.588398                0.638971       0.572674  \n",
       "auc_roc              0.842332                0.848917       0.850283  "
      ]
     },
     "execution_count": 187,
     "metadata": {},
     "output_type": "execute_result"
    }
   ],
   "source": [
    "gs_imp_xgb[0]"
   ]
  },
  {
   "cell_type": "markdown",
   "metadata": {},
   "source": [
    "### Метрики моделей, обученных на признаках, отобранных с помощью RandomForestClassifier"
   ]
  },
  {
   "cell_type": "code",
   "execution_count": 188,
   "metadata": {},
   "outputs": [
    {
     "data": {
      "text/html": [
       "<div>\n",
       "<style scoped>\n",
       "    .dataframe tbody tr th:only-of-type {\n",
       "        vertical-align: middle;\n",
       "    }\n",
       "\n",
       "    .dataframe tbody tr th {\n",
       "        vertical-align: top;\n",
       "    }\n",
       "\n",
       "    .dataframe thead th {\n",
       "        text-align: right;\n",
       "    }\n",
       "</style>\n",
       "<table border=\"1\" class=\"dataframe\">\n",
       "  <thead>\n",
       "    <tr style=\"text-align: right;\">\n",
       "      <th></th>\n",
       "      <th>KNeighborsClassifier</th>\n",
       "      <th>GaussianNB</th>\n",
       "      <th>DecisionTreeClassifier</th>\n",
       "      <th>LogisticRegression</th>\n",
       "      <th>RandomForestClassifier</th>\n",
       "      <th>XGBClassifier</th>\n",
       "    </tr>\n",
       "  </thead>\n",
       "  <tbody>\n",
       "    <tr>\n",
       "      <th>accuracy</th>\n",
       "      <td>0.797189</td>\n",
       "      <td>0.742972</td>\n",
       "      <td>0.794511</td>\n",
       "      <td>0.795850</td>\n",
       "      <td>0.805890</td>\n",
       "      <td>0.802544</td>\n",
       "    </tr>\n",
       "    <tr>\n",
       "      <th>precision</th>\n",
       "      <td>0.646875</td>\n",
       "      <td>0.510815</td>\n",
       "      <td>0.627119</td>\n",
       "      <td>0.604545</td>\n",
       "      <td>0.686411</td>\n",
       "      <td>0.626238</td>\n",
       "    </tr>\n",
       "    <tr>\n",
       "      <th>recall</th>\n",
       "      <td>0.521411</td>\n",
       "      <td>0.773300</td>\n",
       "      <td>0.559194</td>\n",
       "      <td>0.670025</td>\n",
       "      <td>0.496222</td>\n",
       "      <td>0.637280</td>\n",
       "    </tr>\n",
       "    <tr>\n",
       "      <th>f1_score</th>\n",
       "      <td>0.577406</td>\n",
       "      <td>0.615230</td>\n",
       "      <td>0.591212</td>\n",
       "      <td>0.635603</td>\n",
       "      <td>0.576023</td>\n",
       "      <td>0.631710</td>\n",
       "    </tr>\n",
       "    <tr>\n",
       "      <th>auc_roc</th>\n",
       "      <td>0.825823</td>\n",
       "      <td>0.826820</td>\n",
       "      <td>0.818525</td>\n",
       "      <td>0.840760</td>\n",
       "      <td>0.844945</td>\n",
       "      <td>0.849889</td>\n",
       "    </tr>\n",
       "  </tbody>\n",
       "</table>\n",
       "</div>"
      ],
      "text/plain": [
       "           KNeighborsClassifier  GaussianNB  DecisionTreeClassifier  \\\n",
       "accuracy               0.797189    0.742972                0.794511   \n",
       "precision              0.646875    0.510815                0.627119   \n",
       "recall                 0.521411    0.773300                0.559194   \n",
       "f1_score               0.577406    0.615230                0.591212   \n",
       "auc_roc                0.825823    0.826820                0.818525   \n",
       "\n",
       "           LogisticRegression  RandomForestClassifier  XGBClassifier  \n",
       "accuracy             0.795850                0.805890       0.802544  \n",
       "precision            0.604545                0.686411       0.626238  \n",
       "recall               0.670025                0.496222       0.637280  \n",
       "f1_score             0.635603                0.576023       0.631710  \n",
       "auc_roc              0.840760                0.844945       0.849889  "
      ]
     },
     "execution_count": 188,
     "metadata": {},
     "output_type": "execute_result"
    }
   ],
   "source": [
    "gs_imp_rfc[0]"
   ]
  },
  {
   "cell_type": "markdown",
   "metadata": {},
   "source": [
    "Из приведенных выше таблиц видно, что относительно метрики auc-roc наилучшие результаты показывают модели, обученные на данных, отобранных с помощью XGBClassifier, что нельзя сказать о моделях, обученных на данных, отобранных с помощью RandomForestClassifier : метрика auc-roc улучшилась только для KNeighborsClassifier и GaussianNB, для остальных моделей эта метрика стала хуже по сравнению с моделями, обученными на всех признаках). Отметим, что также проводилось обучение моделей на большем количестве признаков, отобранных с помощью RandomForestClassifier, однако метрики auc-roc получились еще хуже, чем в приведенной выше таблице.  \n",
    "Если рассматривать модели, обученные на признаках, отобранных алгоритмом XGBClassifier (features_xgb), то наилучшее значение демонстрирует как раз XGBClassifier и оно остается неизменным и для нового набора признаков, и для исходного. Тем не менее, выберем как наилучшую именно модель XGBClassifier, обученную на признаках features_xgb по той причине, что на меньшем наборе признаков затрачивается меньше времени на обучение и нет смысла использовать признаки с нулевой значимостью."
   ]
  },
  {
   "cell_type": "markdown",
   "metadata": {},
   "source": [
    "Отметим, что из двеннадцати признаков, которые предполагалось исключить из рассмотрения на основе корреляционных коэффициентов, было исключено девять из них."
   ]
  },
  {
   "cell_type": "code",
   "execution_count": 189,
   "metadata": {},
   "outputs": [
    {
     "data": {
      "text/plain": [
       "Index(['PaymentMethod_Mailed check', 'OnlineBackup_Yes',\n",
       "       'DeviceProtection_Yes', 'MultipleLines_Yes', 'gender_Male',\n",
       "       'gender_Female', 'PhoneService_No', 'PhoneService_Yes',\n",
       "       'MultipleLines_No phone service'],\n",
       "      dtype='object')"
      ]
     },
     "execution_count": 189,
     "metadata": {},
     "output_type": "execute_result"
    }
   ],
   "source": [
    "corr_0_1 = abs(corr_m['Churn']).sort_values(ascending=False)[1:][abs(corr_m['Churn']) < 0.1]\n",
    "features_xgb0 = pd.Series(xgb.feature_importances_, index=features_dum).sort_values(ascending=False)\n",
    "features_xgb0 = features_xgb0[features_xgb0 == 0]\n",
    "corr_0_1.index.intersection(features_xgb0.index)"
   ]
  },
  {
   "cell_type": "markdown",
   "metadata": {},
   "source": [
    "Итак, в качестве наилучшей модели выбран XGBClassifier, обученный на признаках features_xgb.  Для решения поставленной задачи по минимизации отттока клиентов необходимо повысить точность предсказания клиентов, которые собираются покинуть компанию, то есть предсказание класса \"1\". Это будет осуществленно с помощью смещения порога принятия решения о классе \"1\" с вероятности равной 0,5 до вероятности 0,45. Для сравнения те же расчеты будут проведены для моделей, показавших второй и третий результаты метрики auc-roc: RandomForestClassifier (0.8489) и LogisticRegression (0.8423), обученные на признаках features_xgb."
   ]
  },
  {
   "cell_type": "markdown",
   "metadata": {
    "id": "uyDpeHkTVYSf"
   },
   "source": [
    "# 4. Сравнение качества моделей "
   ]
  },
  {
   "cell_type": "markdown",
   "metadata": {},
   "source": [
    "Проведем сравнение качества моделей XGBClassifier, RandomForestClassifier и LogisticRegression с порогом вероятности отнесения к классу '1' равны 0.5 и 0.45. Для этого построим матрицы ошибок."
   ]
  },
  {
   "cell_type": "code",
   "execution_count": 190,
   "metadata": {},
   "outputs": [],
   "source": [
    "best_xgb = gs_imp_xgb[1]['XGBClassifier']\n",
    "best_rfc = gs_imp_xgb[1]['RandomForestClassifier']\n",
    "best_lr = gs_imp_xgb[1]['LogisticRegression']"
   ]
  },
  {
   "cell_type": "code",
   "execution_count": 191,
   "metadata": {},
   "outputs": [],
   "source": [
    "x_test = data_xgb[1]\n",
    "y_test = data_xgb[3]"
   ]
  },
  {
   "cell_type": "code",
   "execution_count": 192,
   "metadata": {},
   "outputs": [],
   "source": [
    "# предсказание для XGBClassifier\n",
    "pred_prob_xgb = best_xgb.predict_proba(x_test)[:, 1]  # расчет вероятностей \n",
    "pred_xgb_50 = best_xgb.predict(x_test)  # порог 0,5\n",
    "pred_xgb_45 = (pred_prob_xgb >= 0.45).astype(int) # порог 0,45"
   ]
  },
  {
   "cell_type": "code",
   "execution_count": 193,
   "metadata": {},
   "outputs": [],
   "source": [
    "# предсказание для RandomForestClassifier\n",
    "pred_prob_rfc = best_rfc.predict_proba(x_test)[:, 1]\n",
    "pred_rfc_50 = best_rfc.predict(x_test) \n",
    "pred_rfc_45 = (pred_prob_rfc >= 0.45).astype(int)"
   ]
  },
  {
   "cell_type": "code",
   "execution_count": 194,
   "metadata": {},
   "outputs": [],
   "source": [
    "# предсказание для LogisticRegression\n",
    "pred_prob_lr = best_lr.predict_proba(x_test)[:, 1]\n",
    "pred_lr_50 = best_lr.predict(x_test)\n",
    "pred_lr_45 = (pred_prob_lr >= 0.45).astype(int)"
   ]
  },
  {
   "cell_type": "code",
   "execution_count": 195,
   "metadata": {},
   "outputs": [],
   "source": [
    "\"\"\"\n",
    "Функция для построения матрицы ошибок\n",
    "На вход получает тестовые значения целевой переменной y_test, список предсказаний y_pred для порогов 0,5 и 0,45  \n",
    "и название алгоритма classifier_name\n",
    "\"\"\"\n",
    "def confusion_matrix_table(y_test, y_pred, classifier_name):\n",
    "    tables = []\n",
    "    for pred in y_pred:\n",
    "        data = {'y_Actual':  y_test, 'y_Predicted': pred}\n",
    "        df = pd.DataFrame(data, columns=['y_Actual','y_Predicted'])\n",
    "        confusion_matrix = pd.crosstab(df['y_Actual'], df['y_Predicted'], rownames=['Actual'], colnames=['Predicted'])\n",
    "        tables.append(confusion_matrix)\n",
    "    titles = [classifier_name + ' threshold 0.5', classifier_name + ' threshold 0.45']\n",
    "    \n",
    "    fig, axs = plt.subplots(figsize=(14, 5), ncols=2, nrows=1)\n",
    "    for table, title, ax in zip(tables, titles, axs.flat):\n",
    "        sns.heatmap(table, ax=ax, annot=True, fmt='d')\n",
    "        plt.setp(ax, xlabel='Predicted', ylabel='Actual', title=title)\n",
    "    plt.show()\n",
    "    \n",
    "    return tables"
   ]
  },
  {
   "cell_type": "code",
   "execution_count": 196,
   "metadata": {},
   "outputs": [
    {
     "data": {
      "image/png": "[encoded data removed]",
      "text/plain": [
       "<Figure size 1008x360 with 4 Axes>"
      ]
     },
     "metadata": {
      "needs_background": "light"
     },
     "output_type": "display_data"
    }
   ],
   "source": [
    "conf_m_xgb_50,  conf_m_xgb_45 = confusion_matrix_table(y_test, [pred_xgb_50, pred_xgb_45], 'XGBoost')"
   ]
  },
  {
   "cell_type": "code",
   "execution_count": 197,
   "metadata": {},
   "outputs": [
    {
     "data": {
      "image/png": "[encoded data removed]",
      "text/plain": [
       "<Figure size 1008x360 with 4 Axes>"
      ]
     },
     "metadata": {
      "needs_background": "light"
     },
     "output_type": "display_data"
    }
   ],
   "source": [
    "conf_m_rfc_50,  conf_m_rfc_45 = confusion_matrix_table(y_test, [pred_rfc_50, pred_rfc_45], 'RandomForest')"
   ]
  },
  {
   "cell_type": "code",
   "execution_count": 198,
   "metadata": {},
   "outputs": [
    {
     "data": {
      "image/png": "[encoded data removed]",
      "text/plain": [
       "<Figure size 1008x360 with 4 Axes>"
      ]
     },
     "metadata": {
      "needs_background": "light"
     },
     "output_type": "display_data"
    }
   ],
   "source": [
    "conf_m_lr_50,  conf_m_lr_45 = confusion_matrix_table(y_test, [pred_lr_50, pred_lr_45], 'LogisticRegression')"
   ]
  },
  {
   "cell_type": "markdown",
   "metadata": {},
   "source": [
    "Как видно из матриц ошибок, смащение порога вероятности до значения 0,45 позволяет улучшить точность определения клиентов, которые покинут компанию, то есть класс \"1\". Модель на основе RandomForest показывает наибольшее число правильно определенных покидающих клиентов (на 98 и 99 больше по сравнению с XGBClassifier и LogisticRegression соответственно). Однако число правильно предсказанных остающихся клиентов значительно меньше (на 199 и 183 меньше по сравнению с XGBClassifier и LogisticRegression соответственно). Поскольку, если будет неправильно предсказан уход клиента, также будут потрачены лишние средства на его удержание, поэтому необходимо находить компромисс между правильными предсказаниями уходящих и остающихся клиентов. Для RandomForestClassifier имеет место почти одинаковое количество правильно предсказанных уходящих клиентов и ложноположительных предсказаний. Примем это неприемлемым и исключаем модель на основе RandomForest из дальнейшего рассмотрения.  \n",
    "Что же касается двух оставшихся моделей, то они демонстрируют близкие результаты, в особенности для правильно предсказанных уходов (237 у XGBClassifier и 236 у LogisticRegression), но модель на основе XGBClassifier делает больше правильных предсказаний для остающихся клиентов (.\n",
    "Таким образом, модель на основе XGBClassifier, обучанная на признаках features_xgb, с порогом вероятности предсказания ухода клиентов в 0.45 является наилучшей моделью прогнозирования оттока клиентов.  \n",
    "Для повышения качества модели необходимо постоянное обновление базы данных, возможно потребуется введение новых признаков."
   ]
  },
  {
   "cell_type": "code",
   "execution_count": 185,
   "metadata": {},
   "outputs": [
    {
     "data": {
      "text/plain": [
       "16"
      ]
     },
     "execution_count": 185,
     "metadata": {},
     "output_type": "execute_result"
    }
   ],
   "source": [
    "962 - 946"
   ]
  },
  {
   "cell_type": "code",
   "execution_count": null,
   "metadata": {},
   "outputs": [],
   "source": []
  }
 ],
 "metadata": {
  "colab": {
   "collapsed_sections": [],
   "name": "Coursework_ML.ipynb",
   "provenance": []
  },
  "kernelspec": {
   "display_name": "Python 3",
   "language": "python",
   "name": "python3"
  },
  "language_info": {
   "codemirror_mode": {
    "name": "ipython",
    "version": 3
   },
   "file_extension": ".py",
   "mimetype": "text/x-python",
   "name": "python",
   "nbconvert_exporter": "python",
   "pygments_lexer": "ipython3",
   "version": "3.8.5"
  }
 },
 "nbformat": 4,
 "nbformat_minor": 1
}
